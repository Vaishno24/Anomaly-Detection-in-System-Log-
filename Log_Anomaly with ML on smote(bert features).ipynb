{
 "cells": [
  {
   "cell_type": "markdown",
   "id": "978aee7a-17fb-4b87-a3d3-f397019963cd",
   "metadata": {
    "id": "978aee7a-17fb-4b87-a3d3-f397019963cd"
   },
   "source": [
    "---\n",
    "---\n",
    "\n",
    "<h1 align='center'> Anamoly Detection </h1>\n",
    "<h2 align='center'> Transfer-Learning Models</h2> \n",
    "\n",
    "\n",
    "1.   ML[Smote(Bert features extracted from pretrained model)]\n",
    "2.   Bert+NN full trainable\n",
    "\n",
    "---\n",
    "---"
   ]
  },
  {
   "cell_type": "code",
   "execution_count": 4,
   "id": "f82dc60d",
   "metadata": {},
   "outputs": [
    {
     "name": "stdout",
     "output_type": "stream",
     "text": [
      "Collecting tensorflow\n",
      "  Downloading tensorflow-2.10.0-cp39-cp39-win_amd64.whl (455.9 MB)\n",
      "     ------------------------------------ 455.9/455.9 MB 545.2 kB/s eta 0:00:00\n",
      "Collecting gast<=0.4.0,>=0.2.1\n",
      "  Using cached gast-0.4.0-py3-none-any.whl (9.8 kB)\n",
      "Collecting keras<2.11,>=2.10.0\n",
      "  Using cached keras-2.10.0-py2.py3-none-any.whl (1.7 MB)\n",
      "Collecting opt-einsum>=2.3.2\n",
      "  Using cached opt_einsum-3.3.0-py3-none-any.whl (65 kB)\n",
      "Requirement already satisfied: six>=1.12.0 in c:\\users\\sriva\\anaconda3\\lib\\site-packages (from tensorflow) (1.16.0)\n",
      "Requirement already satisfied: wrapt>=1.11.0 in c:\\users\\sriva\\anaconda3\\lib\\site-packages (from tensorflow) (1.14.1)\n",
      "Collecting tensorflow-estimator<2.11,>=2.10.0\n",
      "  Using cached tensorflow_estimator-2.10.0-py2.py3-none-any.whl (438 kB)\n",
      "Requirement already satisfied: typing-extensions>=3.6.6 in c:\\users\\sriva\\anaconda3\\lib\\site-packages (from tensorflow) (4.3.0)\n",
      "Collecting keras-preprocessing>=1.1.1\n",
      "  Using cached Keras_Preprocessing-1.1.2-py2.py3-none-any.whl (42 kB)\n",
      "Requirement already satisfied: setuptools in c:\\users\\sriva\\anaconda3\\lib\\site-packages (from tensorflow) (63.4.1)\n",
      "Collecting tensorflow-io-gcs-filesystem>=0.23.1\n",
      "  Downloading tensorflow_io_gcs_filesystem-0.27.0-cp39-cp39-win_amd64.whl (1.5 MB)\n",
      "     ---------------------------------------- 1.5/1.5 MB 993.3 kB/s eta 0:00:00\n",
      "Requirement already satisfied: packaging in c:\\users\\sriva\\anaconda3\\lib\\site-packages (from tensorflow) (21.3)\n",
      "Collecting astunparse>=1.6.0\n",
      "  Using cached astunparse-1.6.3-py2.py3-none-any.whl (12 kB)\n",
      "Collecting grpcio<2.0,>=1.24.3\n",
      "  Downloading grpcio-1.50.0-cp39-cp39-win_amd64.whl (3.7 MB)\n",
      "     ---------------------------------------- 3.7/3.7 MB 810.2 kB/s eta 0:00:00\n",
      "Collecting protobuf<3.20,>=3.9.2\n",
      "  Downloading protobuf-3.19.6-cp39-cp39-win_amd64.whl (895 kB)\n",
      "     ------------------------------------ 895.9/895.9 kB 708.5 kB/s eta 0:00:00\n",
      "Collecting absl-py>=1.0.0\n",
      "  Downloading absl_py-1.3.0-py3-none-any.whl (124 kB)\n",
      "     -------------------------------------- 124.6/124.6 kB 1.2 MB/s eta 0:00:00\n",
      "Requirement already satisfied: h5py>=2.9.0 in c:\\users\\sriva\\anaconda3\\lib\\site-packages (from tensorflow) (3.7.0)\n",
      "Collecting flatbuffers>=2.0\n",
      "  Downloading flatbuffers-22.10.26-py2.py3-none-any.whl (26 kB)\n",
      "Collecting termcolor>=1.1.0\n",
      "  Downloading termcolor-2.1.0-py3-none-any.whl (5.8 kB)\n",
      "Collecting libclang>=13.0.0\n",
      "  Downloading libclang-14.0.6-py2.py3-none-win_amd64.whl (14.2 MB)\n",
      "     -------------------------------------- 14.2/14.2 MB 599.7 kB/s eta 0:00:00\n",
      "Collecting tensorboard<2.11,>=2.10\n",
      "  Downloading tensorboard-2.10.1-py3-none-any.whl (5.9 MB)\n",
      "     ---------------------------------------- 5.9/5.9 MB 532.2 kB/s eta 0:00:00\n",
      "Requirement already satisfied: numpy>=1.20 in c:\\users\\sriva\\anaconda3\\lib\\site-packages (from tensorflow) (1.21.5)\n",
      "Collecting google-pasta>=0.1.1\n",
      "  Using cached google_pasta-0.2.0-py3-none-any.whl (57 kB)\n",
      "Requirement already satisfied: wheel<1.0,>=0.23.0 in c:\\users\\sriva\\anaconda3\\lib\\site-packages (from astunparse>=1.6.0->tensorflow) (0.37.1)\n",
      "Requirement already satisfied: markdown>=2.6.8 in c:\\users\\sriva\\anaconda3\\lib\\site-packages (from tensorboard<2.11,>=2.10->tensorflow) (3.3.4)\n",
      "Collecting google-auth-oauthlib<0.5,>=0.4.1\n",
      "  Downloading google_auth_oauthlib-0.4.6-py2.py3-none-any.whl (18 kB)\n",
      "Collecting tensorboard-plugin-wit>=1.6.0\n",
      "  Downloading tensorboard_plugin_wit-1.8.1-py3-none-any.whl (781 kB)\n",
      "     ------------------------------------ 781.3/781.3 kB 587.7 kB/s eta 0:00:00\n",
      "Requirement already satisfied: requests<3,>=2.21.0 in c:\\users\\sriva\\anaconda3\\lib\\site-packages (from tensorboard<2.11,>=2.10->tensorflow) (2.28.1)\n",
      "Collecting google-auth<3,>=1.6.3\n",
      "  Downloading google_auth-2.13.0-py2.py3-none-any.whl (174 kB)\n",
      "     ------------------------------------ 174.5/174.5 kB 874.0 kB/s eta 0:00:00\n",
      "Requirement already satisfied: werkzeug>=1.0.1 in c:\\users\\sriva\\anaconda3\\lib\\site-packages (from tensorboard<2.11,>=2.10->tensorflow) (2.0.3)\n",
      "Collecting tensorboard-data-server<0.7.0,>=0.6.0\n",
      "  Using cached tensorboard_data_server-0.6.1-py3-none-any.whl (2.4 kB)\n",
      "Requirement already satisfied: pyparsing!=3.0.5,>=2.0.2 in c:\\users\\sriva\\anaconda3\\lib\\site-packages (from packaging->tensorflow) (3.0.9)\n",
      "Requirement already satisfied: pyasn1-modules>=0.2.1 in c:\\users\\sriva\\anaconda3\\lib\\site-packages (from google-auth<3,>=1.6.3->tensorboard<2.11,>=2.10->tensorflow) (0.2.8)\n",
      "Collecting rsa<5,>=3.1.4\n",
      "  Downloading rsa-4.9-py3-none-any.whl (34 kB)\n",
      "Collecting cachetools<6.0,>=2.0.0\n",
      "  Downloading cachetools-5.2.0-py3-none-any.whl (9.3 kB)\n",
      "Collecting requests-oauthlib>=0.7.0\n",
      "  Downloading requests_oauthlib-1.3.1-py2.py3-none-any.whl (23 kB)\n",
      "Requirement already satisfied: charset-normalizer<3,>=2 in c:\\users\\sriva\\anaconda3\\lib\\site-packages (from requests<3,>=2.21.0->tensorboard<2.11,>=2.10->tensorflow) (2.0.4)\n",
      "Requirement already satisfied: certifi>=2017.4.17 in c:\\users\\sriva\\anaconda3\\lib\\site-packages (from requests<3,>=2.21.0->tensorboard<2.11,>=2.10->tensorflow) (2022.9.14)\n",
      "Requirement already satisfied: idna<4,>=2.5 in c:\\users\\sriva\\anaconda3\\lib\\site-packages (from requests<3,>=2.21.0->tensorboard<2.11,>=2.10->tensorflow) (3.3)\n",
      "Requirement already satisfied: urllib3<1.27,>=1.21.1 in c:\\users\\sriva\\anaconda3\\lib\\site-packages (from requests<3,>=2.21.0->tensorboard<2.11,>=2.10->tensorflow) (1.26.11)\n",
      "Requirement already satisfied: pyasn1<0.5.0,>=0.4.6 in c:\\users\\sriva\\anaconda3\\lib\\site-packages (from pyasn1-modules>=0.2.1->google-auth<3,>=1.6.3->tensorboard<2.11,>=2.10->tensorflow) (0.4.8)\n",
      "Collecting oauthlib>=3.0.0\n",
      "  Downloading oauthlib-3.2.2-py3-none-any.whl (151 kB)\n",
      "     ------------------------------------ 151.7/151.7 kB 361.8 kB/s eta 0:00:00\n",
      "Installing collected packages: tensorboard-plugin-wit, libclang, keras, flatbuffers, termcolor, tensorflow-io-gcs-filesystem, tensorflow-estimator, tensorboard-data-server, rsa, protobuf, opt-einsum, oauthlib, keras-preprocessing, grpcio, google-pasta, gast, cachetools, astunparse, absl-py, requests-oauthlib, google-auth, google-auth-oauthlib, tensorboard, tensorflow\n",
      "Successfully installed absl-py-1.3.0 astunparse-1.6.3 cachetools-5.2.0 flatbuffers-22.10.26 gast-0.4.0 google-auth-2.13.0 google-auth-oauthlib-0.4.6 google-pasta-0.2.0 grpcio-1.50.0 keras-2.10.0 keras-preprocessing-1.1.2 libclang-14.0.6 oauthlib-3.2.2 opt-einsum-3.3.0 protobuf-3.19.6 requests-oauthlib-1.3.1 rsa-4.9 tensorboard-2.10.1 tensorboard-data-server-0.6.1 tensorboard-plugin-wit-1.8.1 tensorflow-2.10.0 tensorflow-estimator-2.10.0 tensorflow-io-gcs-filesystem-0.27.0 termcolor-2.1.0\n",
      "Note: you may need to restart the kernel to use updated packages.\n"
     ]
    }
   ],
   "source": [
    "pip install tensorflow"
   ]
  },
  {
   "cell_type": "code",
   "execution_count": 4,
   "id": "896885c2-3bf0-49bf-a75f-0018ec2104f9",
   "metadata": {
    "id": "896885c2-3bf0-49bf-a75f-0018ec2104f9"
   },
   "outputs": [],
   "source": [
    "#Import Libraries and upload clean data into workspace\n",
    "import pandas as pd\n",
    "import numpy as np\n",
    "import random\n",
    "import matplotlib.pyplot as plt\n",
    "\n",
    "from tensorflow import keras\n",
    "import tensorflow as tf\n",
    "# tf.config.experimental.set_memory_growth(tf.config.list_physical_devices('GPU')[0], True)\n",
    "\n",
    "import warnings\n",
    "warnings.filterwarnings('ignore')"
   ]
  },
  {
   "cell_type": "markdown",
   "id": "15b1f7b8-0267-4f14-a561-40fe548144f3",
   "metadata": {
    "id": "15b1f7b8-0267-4f14-a561-40fe548144f3"
   },
   "source": [
    "## Read File"
   ]
  },
  {
   "cell_type": "code",
   "execution_count": 1,
   "id": "e8f51bad-6984-4f90-96ec-b42393a80544",
   "metadata": {
    "id": "e8f51bad-6984-4f90-96ec-b42393a80544"
   },
   "outputs": [
    {
     "name": "stderr",
     "output_type": "stream",
     "text": [
      "C:\\Users\\sriva\\AppData\\Local\\Temp\\ipykernel_4712\\35493751.py:5: FutureWarning: Passing a negative integer is deprecated in version 1.0 and will not be supported in future version. Instead, use None to not limit the column width.\n",
      "  pd.set_option('display.max_colwidth', -1)\n"
     ]
    }
   ],
   "source": [
    "import pandas as pd\n",
    "data = pd.read_csv(\"cleaned_data_100.csv\")\n",
    "data = data.sample(n = 10000)\n",
    "#expanding the dispay of text sms column\n",
    "pd.set_option('display.max_colwidth', -1)"
   ]
  },
  {
   "cell_type": "code",
   "execution_count": 2,
   "id": "865db107-1f8e-4c07-bac4-ee946f01337a",
   "metadata": {
    "colab": {
     "base_uri": "https://localhost:8080/",
     "height": 1019
    },
    "id": "865db107-1f8e-4c07-bac4-ee946f01337a",
    "outputId": "2debba67-e814-4cfa-8bd6-0694f3604490"
   },
   "outputs": [
    {
     "data": {
      "text/html": [
       "<div>\n",
       "<style scoped>\n",
       "    .dataframe tbody tr th:only-of-type {\n",
       "        vertical-align: middle;\n",
       "    }\n",
       "\n",
       "    .dataframe tbody tr th {\n",
       "        vertical-align: top;\n",
       "    }\n",
       "\n",
       "    .dataframe thead th {\n",
       "        text-align: right;\n",
       "    }\n",
       "</style>\n",
       "<table border=\"1\" class=\"dataframe\">\n",
       "  <thead>\n",
       "    <tr style=\"text-align: right;\">\n",
       "      <th></th>\n",
       "      <th>X_data</th>\n",
       "      <th>Y_data</th>\n",
       "    </tr>\n",
       "  </thead>\n",
       "  <tbody>\n",
       "    <tr>\n",
       "      <th>12750</th>\n",
       "      <td>81109 203727 200 INFO dfs DataNode PacketResponder Received block blk5965876303758897519 of size 67108864 from 10 251 90 64 E9 Received block of size from</td>\n",
       "      <td>0</td>\n",
       "    </tr>\n",
       "    <tr>\n",
       "      <th>23620</th>\n",
       "      <td>81109 203851 246 INFO dfs DataNode PacketResponder PacketResponder 1 for block blk3899481423628647570 terminating E11 PacketResponder for block terminating</td>\n",
       "      <td>0</td>\n",
       "    </tr>\n",
       "    <tr>\n",
       "      <th>37076</th>\n",
       "      <td>81109 204038 32 INFO dfs FSNamesystem BLOCK NameSystem addStoredBlock blockMap updated 10 251 126 83 50010 is added to blk8827951563980824329 size 67108864 E26 BLOCK NameSystem addStoredBlock blockMap updated is added to size</td>\n",
       "      <td>1</td>\n",
       "    </tr>\n",
       "    <tr>\n",
       "      <th>13411</th>\n",
       "      <td>81109 203731 224 INFO dfs DataNode DataXceiver Receiving block blk9036962293154594303 src 10 251 42 246 42470 dest 10 251 42 246 50010 E5 Receiving block src dest</td>\n",
       "      <td>1</td>\n",
       "    </tr>\n",
       "    <tr>\n",
       "      <th>38106</th>\n",
       "      <td>81109 204047 29 INFO dfs FSNamesystem BLOCK NameSystem addStoredBlock blockMap updated 10 251 111 209 50010 is added to blk2190210906526916834 size 67108864 E26 BLOCK NameSystem addStoredBlock blockMap updated is added to size</td>\n",
       "      <td>0</td>\n",
       "    </tr>\n",
       "    <tr>\n",
       "      <th>...</th>\n",
       "      <td>...</td>\n",
       "      <td>...</td>\n",
       "    </tr>\n",
       "    <tr>\n",
       "      <th>14216</th>\n",
       "      <td>81109 203737 27 INFO dfs FSNamesystem BLOCK NameSystem allocateBlock user root rand temporary task2008110920300001m0003180 part00318 blk3996614464467767161 E22 BLOCK NameSystem allocateBlock</td>\n",
       "      <td>0</td>\n",
       "    </tr>\n",
       "    <tr>\n",
       "      <th>100363</th>\n",
       "      <td>81109 204840 639 INFO dfs DataNode PacketResponder Received block blk7686356201822676456 of size 67108864 from 10 251 194 147 E9 Received block of size from</td>\n",
       "      <td>0</td>\n",
       "    </tr>\n",
       "    <tr>\n",
       "      <th>95135</th>\n",
       "      <td>81109 204759 31 INFO dfs FSNamesystem BLOCK NameSystem addStoredBlock blockMap updated 10 251 106 50 50010 is added to blk3001641809063596027 size 67108864 E26 BLOCK NameSystem addStoredBlock blockMap updated is added to size</td>\n",
       "      <td>0</td>\n",
       "    </tr>\n",
       "    <tr>\n",
       "      <th>69612</th>\n",
       "      <td>81109 204502 33 INFO dfs FSNamesystem BLOCK NameSystem addStoredBlock blockMap updated 10 251 70 211 50010 is added to blk6317772835218046259 size 67108864 E26 BLOCK NameSystem addStoredBlock blockMap updated is added to size</td>\n",
       "      <td>0</td>\n",
       "    </tr>\n",
       "    <tr>\n",
       "      <th>81713</th>\n",
       "      <td>81109 204628 27 INFO dfs FSNamesystem BLOCK NameSystem allocateBlock user root rand temporary task2008110920300001m0004430 part00443 blk324659634114615254 E22 BLOCK NameSystem allocateBlock</td>\n",
       "      <td>0</td>\n",
       "    </tr>\n",
       "  </tbody>\n",
       "</table>\n",
       "<p>10000 rows × 2 columns</p>\n",
       "</div>"
      ],
      "text/plain": [
       "                                                                                                                                                                                                                                    X_data  \\\n",
       "12750   81109 203727 200 INFO dfs DataNode PacketResponder Received block blk5965876303758897519 of size 67108864 from 10 251 90 64 E9 Received block of size from                                                                           \n",
       "23620   81109 203851 246 INFO dfs DataNode PacketResponder PacketResponder 1 for block blk3899481423628647570 terminating E11 PacketResponder for block terminating                                                                          \n",
       "37076   81109 204038 32 INFO dfs FSNamesystem BLOCK NameSystem addStoredBlock blockMap updated 10 251 126 83 50010 is added to blk8827951563980824329 size 67108864 E26 BLOCK NameSystem addStoredBlock blockMap updated is added to size    \n",
       "13411   81109 203731 224 INFO dfs DataNode DataXceiver Receiving block blk9036962293154594303 src 10 251 42 246 42470 dest 10 251 42 246 50010 E5 Receiving block src dest                                                                   \n",
       "38106   81109 204047 29 INFO dfs FSNamesystem BLOCK NameSystem addStoredBlock blockMap updated 10 251 111 209 50010 is added to blk2190210906526916834 size 67108864 E26 BLOCK NameSystem addStoredBlock blockMap updated is added to size   \n",
       "...                                                                                                                                                                                                                                    ...   \n",
       "14216   81109 203737 27 INFO dfs FSNamesystem BLOCK NameSystem allocateBlock user root rand temporary task2008110920300001m0003180 part00318 blk3996614464467767161 E22 BLOCK NameSystem allocateBlock                                       \n",
       "100363  81109 204840 639 INFO dfs DataNode PacketResponder Received block blk7686356201822676456 of size 67108864 from 10 251 194 147 E9 Received block of size from                                                                         \n",
       "95135   81109 204759 31 INFO dfs FSNamesystem BLOCK NameSystem addStoredBlock blockMap updated 10 251 106 50 50010 is added to blk3001641809063596027 size 67108864 E26 BLOCK NameSystem addStoredBlock blockMap updated is added to size    \n",
       "69612   81109 204502 33 INFO dfs FSNamesystem BLOCK NameSystem addStoredBlock blockMap updated 10 251 70 211 50010 is added to blk6317772835218046259 size 67108864 E26 BLOCK NameSystem addStoredBlock blockMap updated is added to size    \n",
       "81713   81109 204628 27 INFO dfs FSNamesystem BLOCK NameSystem allocateBlock user root rand temporary task2008110920300001m0004430 part00443 blk324659634114615254 E22 BLOCK NameSystem allocateBlock                                        \n",
       "\n",
       "        Y_data  \n",
       "12750   0       \n",
       "23620   0       \n",
       "37076   1       \n",
       "13411   1       \n",
       "38106   0       \n",
       "...    ..       \n",
       "14216   0       \n",
       "100363  0       \n",
       "95135   0       \n",
       "69612   0       \n",
       "81713   0       \n",
       "\n",
       "[10000 rows x 2 columns]"
      ]
     },
     "execution_count": 2,
     "metadata": {},
     "output_type": "execute_result"
    }
   ],
   "source": [
    "# from google.colab import data_table\n",
    "# data_table.enable_dataframe_formatter()\n",
    "# #Print the dataframe\n",
    "data"
   ]
  },
  {
   "cell_type": "markdown",
   "id": "2d5c6693-db7f-42ef-8ba2-abead6d70687",
   "metadata": {
    "id": "2d5c6693-db7f-42ef-8ba2-abead6d70687"
   },
   "source": [
    "## Exploratory Data Analysis"
   ]
  },
  {
   "cell_type": "code",
   "execution_count": 5,
   "id": "b43471f3-3e89-4c84-b804-eb317a46d68e",
   "metadata": {
    "colab": {
     "base_uri": "https://localhost:8080/",
     "height": 379
    },
    "id": "b43471f3-3e89-4c84-b804-eb317a46d68e",
    "outputId": "33af4388-f62e-4945-f563-a0135cf49bfa"
   },
   "outputs": [
    {
     "data": {
      "image/png": "[encoded data removed]",
      "text/plain": [
       "<Figure size 850x340 with 2 Axes>"
      ]
     },
     "metadata": {},
     "output_type": "display_data"
    }
   ],
   "source": [
    "import seaborn as sns\n",
    "\n",
    "fig, axes = plt.subplots(ncols=2, figsize=(10, 4), dpi=85)\n",
    "plt.tight_layout()\n",
    "\n",
    "data.groupby('Y_data').count()['X_data'].plot(kind='pie', ax=axes[0], labels=['Normal', 'Anomaly'])\n",
    "sns.countplot(x=data['Y_data'], hue=data['Y_data'], ax=axes[1])\n",
    "\n",
    "axes[0].set_ylabel('')\n",
    "axes[1].set_ylabel('')\n",
    "axes[1].set_xticklabels(['Normal', 'Anomaly'])\n",
    "axes[0].tick_params(axis='x', labelsize=10)\n",
    "axes[0].tick_params(axis='y', labelsize=10)\n",
    "axes[1].tick_params(axis='x', labelsize=10)\n",
    "axes[1].tick_params(axis='y', labelsize=10)\n",
    "\n",
    "axes[0].set_title('Anomaly Detection Distribution in Training Set', fontsize=12)\n",
    "axes[1].set_title('Anomaly Detection Count in Training Set', fontsize=12)\n",
    "\n",
    "plt.show()"
   ]
  },
  {
   "cell_type": "code",
   "execution_count": 6,
   "id": "8e48be48",
   "metadata": {},
   "outputs": [
    {
     "data": {
      "text/plain": [
       "Y_data\n",
       "0    9706\n",
       "1    294 \n",
       "Name: X_data, dtype: int64"
      ]
     },
     "execution_count": 6,
     "metadata": {},
     "output_type": "execute_result"
    }
   ],
   "source": [
    "data.groupby('Y_data').count()['X_data']"
   ]
  },
  {
   "cell_type": "markdown",
   "id": "fb1930f9-0e37-4efc-918c-6f2e3564b865",
   "metadata": {
    "id": "fb1930f9-0e37-4efc-918c-6f2e3564b865"
   },
   "source": [
    "## Specs and Dependencies"
   ]
  },
  {
   "cell_type": "code",
   "execution_count": 10,
   "id": "l51HEYQRPFur",
   "metadata": {
    "colab": {
     "base_uri": "https://localhost:8080/"
    },
    "collapsed": true,
    "id": "l51HEYQRPFur",
    "outputId": "bbe59af9-52f6-4902-8a5e-5d52f6152f39"
   },
   "outputs": [
    {
     "name": "stdout",
     "output_type": "stream",
     "text": [
      "Collecting tensorflow_text\n",
      "  Downloading tensorflow_text-2.10.0-cp39-cp39-win_amd64.whl (5.0 MB)\n",
      "     ---------------------------------------- 5.0/5.0 MB 743.0 kB/s eta 0:00:00\n",
      "Collecting tensorflow-hub>=0.8.0\n",
      "  Using cached tensorflow_hub-0.12.0-py2.py3-none-any.whl (108 kB)\n",
      "Requirement already satisfied: tensorflow<2.11,>=2.10.0 in c:\\users\\sriva\\anaconda3\\lib\\site-packages (from tensorflow_text) (2.10.0)\n",
      "Requirement already satisfied: keras-preprocessing>=1.1.1 in c:\\users\\sriva\\anaconda3\\lib\\site-packages (from tensorflow<2.11,>=2.10.0->tensorflow_text) (1.1.2)\n",
      "Requirement already satisfied: grpcio<2.0,>=1.24.3 in c:\\users\\sriva\\anaconda3\\lib\\site-packages (from tensorflow<2.11,>=2.10.0->tensorflow_text) (1.50.0)\n",
      "Requirement already satisfied: google-pasta>=0.1.1 in c:\\users\\sriva\\anaconda3\\lib\\site-packages (from tensorflow<2.11,>=2.10.0->tensorflow_text) (0.2.0)\n",
      "Requirement already satisfied: tensorflow-io-gcs-filesystem>=0.23.1 in c:\\users\\sriva\\anaconda3\\lib\\site-packages (from tensorflow<2.11,>=2.10.0->tensorflow_text) (0.27.0)\n",
      "Requirement already satisfied: typing-extensions>=3.6.6 in c:\\users\\sriva\\anaconda3\\lib\\site-packages (from tensorflow<2.11,>=2.10.0->tensorflow_text) (4.3.0)\n",
      "Requirement already satisfied: tensorboard<2.11,>=2.10 in c:\\users\\sriva\\anaconda3\\lib\\site-packages (from tensorflow<2.11,>=2.10.0->tensorflow_text) (2.10.1)\n",
      "Requirement already satisfied: flatbuffers>=2.0 in c:\\users\\sriva\\anaconda3\\lib\\site-packages (from tensorflow<2.11,>=2.10.0->tensorflow_text) (22.10.26)\n",
      "Requirement already satisfied: packaging in c:\\users\\sriva\\anaconda3\\lib\\site-packages (from tensorflow<2.11,>=2.10.0->tensorflow_text) (21.3)\n",
      "Requirement already satisfied: opt-einsum>=2.3.2 in c:\\users\\sriva\\anaconda3\\lib\\site-packages (from tensorflow<2.11,>=2.10.0->tensorflow_text) (3.3.0)\n",
      "Requirement already satisfied: six>=1.12.0 in c:\\users\\sriva\\anaconda3\\lib\\site-packages (from tensorflow<2.11,>=2.10.0->tensorflow_text) (1.16.0)\n",
      "Requirement already satisfied: gast<=0.4.0,>=0.2.1 in c:\\users\\sriva\\anaconda3\\lib\\site-packages (from tensorflow<2.11,>=2.10.0->tensorflow_text) (0.4.0)\n",
      "Requirement already satisfied: keras<2.11,>=2.10.0 in c:\\users\\sriva\\anaconda3\\lib\\site-packages (from tensorflow<2.11,>=2.10.0->tensorflow_text) (2.10.0)\n",
      "Requirement already satisfied: wrapt>=1.11.0 in c:\\users\\sriva\\anaconda3\\lib\\site-packages (from tensorflow<2.11,>=2.10.0->tensorflow_text) (1.14.1)\n",
      "Requirement already satisfied: protobuf<3.20,>=3.9.2 in c:\\users\\sriva\\anaconda3\\lib\\site-packages (from tensorflow<2.11,>=2.10.0->tensorflow_text) (3.19.6)\n",
      "Requirement already satisfied: absl-py>=1.0.0 in c:\\users\\sriva\\anaconda3\\lib\\site-packages (from tensorflow<2.11,>=2.10.0->tensorflow_text) (1.3.0)\n",
      "Requirement already satisfied: h5py>=2.9.0 in c:\\users\\sriva\\anaconda3\\lib\\site-packages (from tensorflow<2.11,>=2.10.0->tensorflow_text) (3.7.0)\n",
      "Requirement already satisfied: setuptools in c:\\users\\sriva\\anaconda3\\lib\\site-packages (from tensorflow<2.11,>=2.10.0->tensorflow_text) (63.4.1)\n",
      "Requirement already satisfied: astunparse>=1.6.0 in c:\\users\\sriva\\anaconda3\\lib\\site-packages (from tensorflow<2.11,>=2.10.0->tensorflow_text) (1.6.3)\n",
      "Requirement already satisfied: termcolor>=1.1.0 in c:\\users\\sriva\\anaconda3\\lib\\site-packages (from tensorflow<2.11,>=2.10.0->tensorflow_text) (2.1.0)\n",
      "Requirement already satisfied: numpy>=1.20 in c:\\users\\sriva\\anaconda3\\lib\\site-packages (from tensorflow<2.11,>=2.10.0->tensorflow_text) (1.21.5)\n",
      "Requirement already satisfied: libclang>=13.0.0 in c:\\users\\sriva\\anaconda3\\lib\\site-packages (from tensorflow<2.11,>=2.10.0->tensorflow_text) (14.0.6)\n",
      "Requirement already satisfied: tensorflow-estimator<2.11,>=2.10.0 in c:\\users\\sriva\\anaconda3\\lib\\site-packages (from tensorflow<2.11,>=2.10.0->tensorflow_text) (2.10.0)\n",
      "Requirement already satisfied: wheel<1.0,>=0.23.0 in c:\\users\\sriva\\anaconda3\\lib\\site-packages (from astunparse>=1.6.0->tensorflow<2.11,>=2.10.0->tensorflow_text) (0.37.1)\n",
      "Requirement already satisfied: tensorboard-data-server<0.7.0,>=0.6.0 in c:\\users\\sriva\\anaconda3\\lib\\site-packages (from tensorboard<2.11,>=2.10->tensorflow<2.11,>=2.10.0->tensorflow_text) (0.6.1)\n",
      "Requirement already satisfied: tensorboard-plugin-wit>=1.6.0 in c:\\users\\sriva\\anaconda3\\lib\\site-packages (from tensorboard<2.11,>=2.10->tensorflow<2.11,>=2.10.0->tensorflow_text) (1.8.1)\n",
      "Requirement already satisfied: google-auth<3,>=1.6.3 in c:\\users\\sriva\\anaconda3\\lib\\site-packages (from tensorboard<2.11,>=2.10->tensorflow<2.11,>=2.10.0->tensorflow_text) (2.13.0)\n",
      "Requirement already satisfied: markdown>=2.6.8 in c:\\users\\sriva\\anaconda3\\lib\\site-packages (from tensorboard<2.11,>=2.10->tensorflow<2.11,>=2.10.0->tensorflow_text) (3.3.4)\n",
      "Requirement already satisfied: google-auth-oauthlib<0.5,>=0.4.1 in c:\\users\\sriva\\anaconda3\\lib\\site-packages (from tensorboard<2.11,>=2.10->tensorflow<2.11,>=2.10.0->tensorflow_text) (0.4.6)\n",
      "Requirement already satisfied: requests<3,>=2.21.0 in c:\\users\\sriva\\anaconda3\\lib\\site-packages (from tensorboard<2.11,>=2.10->tensorflow<2.11,>=2.10.0->tensorflow_text) (2.28.1)\n",
      "Requirement already satisfied: werkzeug>=1.0.1 in c:\\users\\sriva\\anaconda3\\lib\\site-packages (from tensorboard<2.11,>=2.10->tensorflow<2.11,>=2.10.0->tensorflow_text) (2.0.3)\n",
      "Requirement already satisfied: pyparsing!=3.0.5,>=2.0.2 in c:\\users\\sriva\\anaconda3\\lib\\site-packages (from packaging->tensorflow<2.11,>=2.10.0->tensorflow_text) (3.0.9)\n",
      "Requirement already satisfied: cachetools<6.0,>=2.0.0 in c:\\users\\sriva\\anaconda3\\lib\\site-packages (from google-auth<3,>=1.6.3->tensorboard<2.11,>=2.10->tensorflow<2.11,>=2.10.0->tensorflow_text) (5.2.0)\n",
      "Requirement already satisfied: pyasn1-modules>=0.2.1 in c:\\users\\sriva\\anaconda3\\lib\\site-packages (from google-auth<3,>=1.6.3->tensorboard<2.11,>=2.10->tensorflow<2.11,>=2.10.0->tensorflow_text) (0.2.8)\n",
      "Requirement already satisfied: rsa<5,>=3.1.4 in c:\\users\\sriva\\anaconda3\\lib\\site-packages (from google-auth<3,>=1.6.3->tensorboard<2.11,>=2.10->tensorflow<2.11,>=2.10.0->tensorflow_text) (4.9)\n",
      "Requirement already satisfied: requests-oauthlib>=0.7.0 in c:\\users\\sriva\\anaconda3\\lib\\site-packages (from google-auth-oauthlib<0.5,>=0.4.1->tensorboard<2.11,>=2.10->tensorflow<2.11,>=2.10.0->tensorflow_text) (1.3.1)\n",
      "Requirement already satisfied: urllib3<1.27,>=1.21.1 in c:\\users\\sriva\\anaconda3\\lib\\site-packages (from requests<3,>=2.21.0->tensorboard<2.11,>=2.10->tensorflow<2.11,>=2.10.0->tensorflow_text) (1.26.11)\n",
      "Requirement already satisfied: certifi>=2017.4.17 in c:\\users\\sriva\\anaconda3\\lib\\site-packages (from requests<3,>=2.21.0->tensorboard<2.11,>=2.10->tensorflow<2.11,>=2.10.0->tensorflow_text) (2022.9.14)\n",
      "Requirement already satisfied: idna<4,>=2.5 in c:\\users\\sriva\\anaconda3\\lib\\site-packages (from requests<3,>=2.21.0->tensorboard<2.11,>=2.10->tensorflow<2.11,>=2.10.0->tensorflow_text) (3.3)\n",
      "Requirement already satisfied: charset-normalizer<3,>=2 in c:\\users\\sriva\\anaconda3\\lib\\site-packages (from requests<3,>=2.21.0->tensorboard<2.11,>=2.10->tensorflow<2.11,>=2.10.0->tensorflow_text) (2.0.4)\n",
      "Requirement already satisfied: pyasn1<0.5.0,>=0.4.6 in c:\\users\\sriva\\anaconda3\\lib\\site-packages (from pyasn1-modules>=0.2.1->google-auth<3,>=1.6.3->tensorboard<2.11,>=2.10->tensorflow<2.11,>=2.10.0->tensorflow_text) (0.4.8)\n",
      "Requirement already satisfied: oauthlib>=3.0.0 in c:\\users\\sriva\\anaconda3\\lib\\site-packages (from requests-oauthlib>=0.7.0->google-auth-oauthlib<0.5,>=0.4.1->tensorboard<2.11,>=2.10->tensorflow<2.11,>=2.10.0->tensorflow_text) (3.2.2)\n",
      "Installing collected packages: tensorflow-hub, tensorflow_text\n",
      "Successfully installed tensorflow-hub-0.12.0 tensorflow_text-2.10.0\n",
      "Requirement already satisfied: tensorflow_hub in c:\\users\\sriva\\anaconda3\\lib\\site-packages (0.12.0)\n",
      "Requirement already satisfied: protobuf>=3.8.0 in c:\\users\\sriva\\anaconda3\\lib\\site-packages (from tensorflow_hub) (3.19.6)\n",
      "Requirement already satisfied: numpy>=1.12.0 in c:\\users\\sriva\\anaconda3\\lib\\site-packages (from tensorflow_hub) (1.21.5)\n",
      "^C\n"
     ]
    }
   ],
   "source": [
    "!pip3 install tensorflow_text\n",
    "!pip3 install tensorflow_hub\n",
    "!pip3 install tensorflow-gpu"
   ]
  },
  {
   "cell_type": "code",
   "execution_count": 7,
   "id": "gQbQTUmYoFZv",
   "metadata": {
    "colab": {
     "base_uri": "https://localhost:8080/"
    },
    "id": "gQbQTUmYoFZv",
    "outputId": "e88f8b5c-790e-4a91-fc06-c48c93140489"
   },
   "outputs": [
    {
     "name": "stdout",
     "output_type": "stream",
     "text": [
      "==================== CPU ====================\n",
      "'lscpu' is not recognized as an internal or external command,\n",
      "operable program or batch file.\n"
     ]
    }
   ],
   "source": [
    "#cpu\n",
    "split_bar = '='*20\n",
    "print(f\"{split_bar} CPU {split_bar}\")\n",
    "cpu_info = !lscpu\n",
    "for inf_item in cpu_info.get_list():\n",
    "  print(inf_item)"
   ]
  },
  {
   "cell_type": "code",
   "execution_count": 8,
   "id": "JnIKIHhscQbM",
   "metadata": {
    "colab": {
     "base_uri": "https://localhost:8080/"
    },
    "id": "JnIKIHhscQbM",
    "outputId": "1ca7db70-b49e-4d5e-8d4f-08fa47e40cc2"
   },
   "outputs": [
    {
     "name": "stdout",
     "output_type": "stream",
     "text": [
      "==================== RAM ====================\n",
      "==================== CUDA ====================\n"
     ]
    },
    {
     "name": "stderr",
     "output_type": "stream",
     "text": [
      "'free' is not recognized as an internal or external command,\n",
      "operable program or batch file.\n",
      "'nvcc' is not recognized as an internal or external command,\n",
      "operable program or batch file.\n"
     ]
    }
   ],
   "source": [
    "print(f\"{split_bar} RAM {split_bar}\")\n",
    "!free -h #ram\n",
    "print(f\"{split_bar} CUDA {split_bar}\")\n",
    "!nvcc --version #cuda"
   ]
  },
  {
   "cell_type": "code",
   "execution_count": 9,
   "id": "51f7ebad-4d8a-4a6e-a813-db852916250e",
   "metadata": {
    "colab": {
     "base_uri": "https://localhost:8080/"
    },
    "id": "51f7ebad-4d8a-4a6e-a813-db852916250e",
    "outputId": "7e30f204-3847-4790-be85-04694a44a239"
   },
   "outputs": [
    {
     "name": "stdout",
     "output_type": "stream",
     "text": [
      "\n",
      "Num GPUs Available:  0\n",
      "Tue Nov  1 10:11:11 2022       \n",
      "+-----------------------------------------------------------------------------+\n",
      "| NVIDIA-SMI 512.72       Driver Version: 512.72       CUDA Version: 11.6     |\n",
      "|-------------------------------+----------------------+----------------------+\n",
      "| GPU  Name            TCC/WDDM | Bus-Id        Disp.A | Volatile Uncorr. ECC |\n",
      "| Fan  Temp  Perf  Pwr:Usage/Cap|         Memory-Usage | GPU-Util  Compute M. |\n",
      "|                               |                      |               MIG M. |\n",
      "|===============================+======================+======================|\n",
      "|   0  NVIDIA GeForce ... WDDM  | 00000000:01:00.0 Off |                  N/A |\n",
      "| N/A   69C    P0    12W /  N/A |     44MiB /  4096MiB |      0%      Default |\n",
      "|                               |                      |                  N/A |\n",
      "+-------------------------------+----------------------+----------------------+\n",
      "                                                                               \n",
      "+-----------------------------------------------------------------------------+\n",
      "| Processes:                                                                  |\n",
      "|  GPU   GI   CI        PID   Type   Process name                  GPU Memory |\n",
      "|        ID   ID                                                   Usage      |\n",
      "|=============================================================================|\n",
      "|    0   N/A  N/A      4712      C   ...riva\\anaconda3\\python.exe    N/A      |\n",
      "+-----------------------------------------------------------------------------+\n"
     ]
    }
   ],
   "source": [
    "print(tf.test.gpu_device_name())\n",
    "print(\"Num GPUs Available: \", len(tf.config.list_physical_devices('GPU')))\n",
    "!nvidia-smi"
   ]
  },
  {
   "cell_type": "markdown",
   "id": "U8Sh_RTw0fNS",
   "metadata": {
    "id": "U8Sh_RTw0fNS"
   },
   "source": [
    "## **Bert Models** (*Hugging Face*)"
   ]
  },
  {
   "cell_type": "code",
   "execution_count": 10,
   "id": "5d76d064-56ef-4b08-ab47-4a06dfae9028",
   "metadata": {
    "colab": {
     "base_uri": "https://localhost:8080/"
    },
    "id": "5d76d064-56ef-4b08-ab47-4a06dfae9028",
    "jupyter": {
     "source_hidden": true
    },
    "outputId": "7cdaf130-c83a-4d3b-c8dc-07b4711519cb",
    "tags": []
   },
   "outputs": [
    {
     "name": "stdout",
     "output_type": "stream",
     "text": [
      "Available Pretrained Models:\n",
      "bert_en_uncased_L-12_H-768_A-12\n",
      "bert_en_cased_L-12_H-768_A-12\n",
      "bert_multi_cased_L-12_H-768_A-12\n",
      "small_bert/bert_en_uncased_L-2_H-128_A-2\n",
      "small_bert/bert_en_uncased_L-2_H-256_A-4\n",
      "small_bert/bert_en_uncased_L-2_H-512_A-8\n",
      "small_bert/bert_en_uncased_L-2_H-768_A-12\n",
      "small_bert/bert_en_uncased_L-4_H-128_A-2\n",
      "small_bert/bert_en_uncased_L-4_H-256_A-4\n",
      "small_bert/bert_en_uncased_L-4_H-512_A-8\n",
      "small_bert/bert_en_uncased_L-4_H-768_A-12\n",
      "small_bert/bert_en_uncased_L-6_H-128_A-2\n",
      "small_bert/bert_en_uncased_L-6_H-256_A-4\n",
      "small_bert/bert_en_uncased_L-6_H-512_A-8\n",
      "small_bert/bert_en_uncased_L-6_H-768_A-12\n",
      "small_bert/bert_en_uncased_L-8_H-128_A-2\n",
      "small_bert/bert_en_uncased_L-8_H-256_A-4\n",
      "small_bert/bert_en_uncased_L-8_H-512_A-8\n",
      "small_bert/bert_en_uncased_L-8_H-768_A-12\n",
      "small_bert/bert_en_uncased_L-10_H-128_A-2\n",
      "small_bert/bert_en_uncased_L-10_H-256_A-4\n",
      "small_bert/bert_en_uncased_L-10_H-512_A-8\n",
      "small_bert/bert_en_uncased_L-10_H-768_A-12\n",
      "small_bert/bert_en_uncased_L-12_H-128_A-2\n",
      "small_bert/bert_en_uncased_L-12_H-256_A-4\n",
      "small_bert/bert_en_uncased_L-12_H-512_A-8\n",
      "small_bert/bert_en_uncased_L-12_H-768_A-12\n",
      "albert_en_base\n",
      "electra_small\n",
      "electra_base\n",
      "experts_pubmed\n",
      "experts_wiki_books\n",
      "talking-heads_base\n"
     ]
    }
   ],
   "source": [
    "\n",
    "map_name_to_handle = {\n",
    "    'bert_en_uncased_L-12_H-768_A-12':\n",
    "        'https://tfhub.dev/tensorflow/bert_en_uncased_L-12_H-768_A-12/4',\n",
    "    'bert_en_cased_L-12_H-768_A-12':\n",
    "        'https://tfhub.dev/tensorflow/bert_en_cased_L-12_H-768_A-12/4',\n",
    "    'bert_multi_cased_L-12_H-768_A-12':\n",
    "        'https://tfhub.dev/tensorflow/bert_multi_cased_L-12_H-768_A-12/4',\n",
    "    'small_bert/bert_en_uncased_L-2_H-128_A-2':\n",
    "        'https://tfhub.dev/tensorflow/small_bert/bert_en_uncased_L-2_H-128_A-2/1',\n",
    "    'small_bert/bert_en_uncased_L-2_H-256_A-4':\n",
    "        'https://tfhub.dev/tensorflow/small_bert/bert_en_uncased_L-2_H-256_A-4/1',\n",
    "    'small_bert/bert_en_uncased_L-2_H-512_A-8':\n",
    "        'https://tfhub.dev/tensorflow/small_bert/bert_en_uncased_L-2_H-512_A-8/1',\n",
    "    'small_bert/bert_en_uncased_L-2_H-768_A-12':\n",
    "        'https://tfhub.dev/tensorflow/small_bert/bert_en_uncased_L-2_H-768_A-12/1',\n",
    "    'small_bert/bert_en_uncased_L-4_H-128_A-2':\n",
    "        'https://tfhub.dev/tensorflow/small_bert/bert_en_uncased_L-4_H-128_A-2/1',\n",
    "    'small_bert/bert_en_uncased_L-4_H-256_A-4':\n",
    "        'https://tfhub.dev/tensorflow/small_bert/bert_en_uncased_L-4_H-256_A-4/1',\n",
    "    'small_bert/bert_en_uncased_L-4_H-512_A-8':\n",
    "        'https://tfhub.dev/tensorflow/small_bert/bert_en_uncased_L-4_H-512_A-8/1',\n",
    "    'small_bert/bert_en_uncased_L-4_H-768_A-12':\n",
    "        'https://tfhub.dev/tensorflow/small_bert/bert_en_uncased_L-4_H-768_A-12/1',\n",
    "    'small_bert/bert_en_uncased_L-6_H-128_A-2':\n",
    "        'https://tfhub.dev/tensorflow/small_bert/bert_en_uncased_L-6_H-128_A-2/1',\n",
    "    'small_bert/bert_en_uncased_L-6_H-256_A-4':\n",
    "        'https://tfhub.dev/tensorflow/small_bert/bert_en_uncased_L-6_H-256_A-4/1',\n",
    "    'small_bert/bert_en_uncased_L-6_H-512_A-8':\n",
    "        'https://tfhub.dev/tensorflow/small_bert/bert_en_uncased_L-6_H-512_A-8/1',\n",
    "    'small_bert/bert_en_uncased_L-6_H-768_A-12':\n",
    "        'https://tfhub.dev/tensorflow/small_bert/bert_en_uncased_L-6_H-768_A-12/1',\n",
    "    'small_bert/bert_en_uncased_L-8_H-128_A-2':\n",
    "        'https://tfhub.dev/tensorflow/small_bert/bert_en_uncased_L-8_H-128_A-2/1',\n",
    "    'small_bert/bert_en_uncased_L-8_H-256_A-4':\n",
    "        'https://tfhub.dev/tensorflow/small_bert/bert_en_uncased_L-8_H-256_A-4/1',\n",
    "    'small_bert/bert_en_uncased_L-8_H-512_A-8':\n",
    "        'https://tfhub.dev/tensorflow/small_bert/bert_en_uncased_L-8_H-512_A-8/1',\n",
    "    'small_bert/bert_en_uncased_L-8_H-768_A-12':\n",
    "        'https://tfhub.dev/tensorflow/small_bert/bert_en_uncased_L-8_H-768_A-12/1',\n",
    "    'small_bert/bert_en_uncased_L-10_H-128_A-2':\n",
    "        'https://tfhub.dev/tensorflow/small_bert/bert_en_uncased_L-10_H-128_A-2/1',\n",
    "    'small_bert/bert_en_uncased_L-10_H-256_A-4':\n",
    "        'https://tfhub.dev/tensorflow/small_bert/bert_en_uncased_L-10_H-256_A-4/1',\n",
    "    'small_bert/bert_en_uncased_L-10_H-512_A-8':\n",
    "        'https://tfhub.dev/tensorflow/small_bert/bert_en_uncased_L-10_H-512_A-8/1',\n",
    "    'small_bert/bert_en_uncased_L-10_H-768_A-12':\n",
    "        'https://tfhub.dev/tensorflow/small_bert/bert_en_uncased_L-10_H-768_A-12/1',\n",
    "    'small_bert/bert_en_uncased_L-12_H-128_A-2':\n",
    "        'https://tfhub.dev/tensorflow/small_bert/bert_en_uncased_L-12_H-128_A-2/1',\n",
    "    'small_bert/bert_en_uncased_L-12_H-256_A-4':\n",
    "        'https://tfhub.dev/tensorflow/small_bert/bert_en_uncased_L-12_H-256_A-4/1',\n",
    "    'small_bert/bert_en_uncased_L-12_H-512_A-8':\n",
    "        'https://tfhub.dev/tensorflow/small_bert/bert_en_uncased_L-12_H-512_A-8/1',\n",
    "    'small_bert/bert_en_uncased_L-12_H-768_A-12':\n",
    "        'https://tfhub.dev/tensorflow/small_bert/bert_en_uncased_L-12_H-768_A-12/2',\n",
    "    'albert_en_base':\n",
    "        'https://tfhub.dev/tensorflow/albert_en_base/2',\n",
    "    'electra_small':\n",
    "        'https://tfhub.dev/google/electra_small/2',\n",
    "    'electra_base':\n",
    "        'https://tfhub.dev/google/electra_base/2',\n",
    "    'experts_pubmed':\n",
    "        'https://tfhub.dev/google/experts/bert/pubmed/2',\n",
    "    'experts_wiki_books':\n",
    "        'https://tfhub.dev/google/experts/bert/wiki_books/2',\n",
    "    'talking-heads_base':\n",
    "        'https://tfhub.dev/tensorflow/talkheads_ggelu_bert_en_base/1',\n",
    "}\n",
    "\n",
    "map_model_to_preprocess = {\n",
    "    'bert_en_uncased_L-12_H-768_A-12':\n",
    "        'https://tfhub.dev/tensorflow/bert_en_uncased_preprocess/3',\n",
    "    'bert_en_cased_L-12_H-768_A-12':\n",
    "        'https://tfhub.dev/tensorflow/bert_en_cased_preprocess/3',\n",
    "    'small_bert/bert_en_uncased_L-2_H-128_A-2':\n",
    "        'https://tfhub.dev/tensorflow/bert_en_uncased_preprocess/3',\n",
    "    'small_bert/bert_en_uncased_L-2_H-256_A-4':\n",
    "        'https://tfhub.dev/tensorflow/bert_en_uncased_preprocess/3',\n",
    "    'small_bert/bert_en_uncased_L-2_H-512_A-8':\n",
    "        'https://tfhub.dev/tensorflow/bert_en_uncased_preprocess/3',\n",
    "    'small_bert/bert_en_uncased_L-2_H-768_A-12':\n",
    "        'https://tfhub.dev/tensorflow/bert_en_uncased_preprocess/3',\n",
    "    'small_bert/bert_en_uncased_L-4_H-128_A-2':\n",
    "        'https://tfhub.dev/tensorflow/bert_en_uncased_preprocess/3',\n",
    "    'small_bert/bert_en_uncased_L-4_H-256_A-4':\n",
    "        'https://tfhub.dev/tensorflow/bert_en_uncased_preprocess/3',\n",
    "    'small_bert/bert_en_uncased_L-4_H-512_A-8':\n",
    "        'https://tfhub.dev/tensorflow/bert_en_uncased_preprocess/3',\n",
    "    'small_bert/bert_en_uncased_L-4_H-768_A-12':\n",
    "        'https://tfhub.dev/tensorflow/bert_en_uncased_preprocess/3',\n",
    "    'small_bert/bert_en_uncased_L-6_H-128_A-2':\n",
    "        'https://tfhub.dev/tensorflow/bert_en_uncased_preprocess/3',\n",
    "    'small_bert/bert_en_uncased_L-6_H-256_A-4':\n",
    "        'https://tfhub.dev/tensorflow/bert_en_uncased_preprocess/3',\n",
    "    'small_bert/bert_en_uncased_L-6_H-512_A-8':\n",
    "        'https://tfhub.dev/tensorflow/bert_en_uncased_preprocess/3',\n",
    "    'small_bert/bert_en_uncased_L-6_H-768_A-12':\n",
    "        'https://tfhub.dev/tensorflow/bert_en_uncased_preprocess/3',\n",
    "    'small_bert/bert_en_uncased_L-8_H-128_A-2':\n",
    "        'https://tfhub.dev/tensorflow/bert_en_uncased_preprocess/3',\n",
    "    'small_bert/bert_en_uncased_L-8_H-256_A-4':\n",
    "        'https://tfhub.dev/tensorflow/bert_en_uncased_preprocess/3',\n",
    "    'small_bert/bert_en_uncased_L-8_H-512_A-8':\n",
    "        'https://tfhub.dev/tensorflow/bert_en_uncased_preprocess/3',\n",
    "    'small_bert/bert_en_uncased_L-8_H-768_A-12':\n",
    "        'https://tfhub.dev/tensorflow/bert_en_uncased_preprocess/3',\n",
    "    'small_bert/bert_en_uncased_L-10_H-128_A-2':\n",
    "        'https://tfhub.dev/tensorflow/bert_en_uncased_preprocess/3',\n",
    "    'small_bert/bert_en_uncased_L-10_H-256_A-4':\n",
    "        'https://tfhub.dev/tensorflow/bert_en_uncased_preprocess/3',\n",
    "    'small_bert/bert_en_uncased_L-10_H-512_A-8':\n",
    "        'https://tfhub.dev/tensorflow/bert_en_uncased_preprocess/3',\n",
    "    'small_bert/bert_en_uncased_L-10_H-768_A-12':\n",
    "        'https://tfhub.dev/tensorflow/bert_en_uncased_preprocess/3',\n",
    "    'small_bert/bert_en_uncased_L-12_H-128_A-2':\n",
    "        'https://tfhub.dev/tensorflow/bert_en_uncased_preprocess/3',\n",
    "    'small_bert/bert_en_uncased_L-12_H-256_A-4':\n",
    "        'https://tfhub.dev/tensorflow/bert_en_uncased_preprocess/3',\n",
    "    'small_bert/bert_en_uncased_L-12_H-512_A-8':\n",
    "        'https://tfhub.dev/tensorflow/bert_en_uncased_preprocess/3',\n",
    "    'small_bert/bert_en_uncased_L-12_H-768_A-12':\n",
    "        'https://tfhub.dev/tensorflow/bert_en_uncased_preprocess/3',\n",
    "    'bert_multi_cased_L-12_H-768_A-12':\n",
    "        'https://tfhub.dev/tensorflow/bert_multi_cased_preprocess/3',\n",
    "    'albert_en_base':\n",
    "        'https://tfhub.dev/tensorflow/albert_en_preprocess/3',\n",
    "    'electra_small':\n",
    "        'https://tfhub.dev/tensorflow/bert_en_uncased_preprocess/3',\n",
    "    'electra_base':\n",
    "        'https://tfhub.dev/tensorflow/bert_en_uncased_preprocess/3',\n",
    "    'experts_pubmed':\n",
    "        'https://tfhub.dev/tensorflow/bert_en_uncased_preprocess/3',\n",
    "    'experts_wiki_books':\n",
    "        'https://tfhub.dev/tensorflow/bert_en_uncased_preprocess/3',\n",
    "    'talking-heads_base':\n",
    "        'https://tfhub.dev/tensorflow/bert_en_uncased_preprocess/3',\n",
    "}\n",
    "\n",
    "print('Available Pretrained Models:',*list(map_name_to_handle.keys()), sep = \"\\n\")"
   ]
  },
  {
   "cell_type": "code",
   "execution_count": 11,
   "id": "4e37ef18-79e8-4a38-bd0f-3552336884e2",
   "metadata": {
    "colab": {
     "base_uri": "https://localhost:8080/"
    },
    "id": "4e37ef18-79e8-4a38-bd0f-3552336884e2",
    "outputId": "155de244-4ba7-4e4a-aa0e-b07bb89fba78",
    "tags": []
   },
   "outputs": [
    {
     "name": "stdout",
     "output_type": "stream",
     "text": [
      "BERT model selected           : https://tfhub.dev/tensorflow/small_bert/bert_en_uncased_L-12_H-768_A-12/2\n",
      "Preprocess model auto-selected: https://tfhub.dev/tensorflow/bert_en_uncased_preprocess/3\n",
      "WARNING:tensorflow:Please fix your imports. Module tensorflow.python.training.tracking.data_structures has been moved to tensorflow.python.trackable.data_structures. The old module will be deleted in version 2.11.\n"
     ]
    }
   ],
   "source": [
    "import tensorflow as tf\n",
    "import tensorflow_hub as hub\n",
    "import tensorflow_text as text\n",
    "\n",
    "# Choose the Model\n",
    "bert_model_name = 'small_bert/bert_en_uncased_L-12_H-768_A-12' \n",
    "\n",
    "tfhub_handle_encoder = map_name_to_handle[bert_model_name]\n",
    "tfhub_handle_preprocess = map_model_to_preprocess[bert_model_name]\n",
    "\n",
    "print(f'BERT model selected           : {tfhub_handle_encoder}')\n",
    "print(f'Preprocess model auto-selected: {tfhub_handle_preprocess}')\n",
    "\n",
    "# tf.compat.v1.disable_eager_execution()\n",
    "bert_preprocess = hub.KerasLayer(tfhub_handle_preprocess, name='preprocess', trainable=False)\n",
    "bert_encoder = hub.KerasLayer(tfhub_handle_encoder, name='encoder', trainable=False)"
   ]
  },
  {
   "cell_type": "markdown",
   "id": "d7f55eaf-508b-43fd-bb29-0f2117940a60",
   "metadata": {
    "id": "d7f55eaf-508b-43fd-bb29-0f2117940a60"
   },
   "source": [
    "## Feature Extraction"
   ]
  },
  {
   "cell_type": "code",
   "execution_count": null,
   "id": "274e34c9-61b5-4170-8eaa-52d001458a5c",
   "metadata": {
    "colab": {
     "base_uri": "https://localhost:8080/"
    },
    "id": "274e34c9-61b5-4170-8eaa-52d001458a5c",
    "outputId": "33c0788d-38c8-43b4-fbab-f95b4706ea15"
   },
   "outputs": [
    {
     "name": "stderr",
     "output_type": "stream",
     "text": [
      " 41%|████      | 4073/10000 [4:28:39<6:30:56,  3.96s/it] \n"
     ]
    }
   ],
   "source": [
    "from tqdm import tqdm\n",
    "import csv\n",
    "import psutil\n",
    "\n",
    "#features = []\n",
    "with open(\"output.csv\",'w') as f:\n",
    "  writer = csv.writer(f, delimiter=',', lineterminator='\\n')\n",
    "  writer.writerow(list(range(768)))\n",
    "  \n",
    "  for i in tqdm(data['X_data']):\n",
    "    # clear tensorflow ram when it exceeds 90 percent of ram usage\n",
    "    if psutil.virtual_memory().percent > 90:\n",
    "      tf.keras.backend.clear_session()\n",
    "    \n",
    "    bert_results = bert_encoder(bert_preprocess([i]))\n",
    "    bert_out = bert_results[\"pooled_output\"].numpy()[0]\n",
    "    #print(bert_out.shape)\n",
    "    #features.append(bert_out)\n",
    "    writer.writerow(bert_out)\n",
    "  #features = np.array(features)"
   ]
  },
  {
   "cell_type": "code",
   "execution_count": null,
   "id": "d007b732-7657-48af-ae3c-daa0210d3031",
   "metadata": {
    "colab": {
     "base_uri": "https://localhost:8080/"
    },
    "id": "d007b732-7657-48af-ae3c-daa0210d3031",
    "outputId": "2aa1169d-0a45-4678-ced1-6228b892f23e"
   },
   "outputs": [],
   "source": [
    "#Saving features\n",
    "#features = features.reshape(len(data),768)\n",
    "#np.save('bert-features',features)\n",
    "features = pd.read_csv(\"output.csv\") \n",
    "features.shape"
   ]
  },
  {
   "cell_type": "markdown",
   "id": "WNzgOgrptTHx",
   "metadata": {
    "id": "WNzgOgrptTHx"
   },
   "source": [
    "---\n",
    "# **Transfer Learning Approches**\n",
    "*restart the kernel for faster run-time as features are extracted from bert transformer and saved*"
   ]
  },
  {
   "cell_type": "code",
   "execution_count": 18,
   "id": "30NCX2LLtfP_",
   "metadata": {
    "id": "30NCX2LLtfP_"
   },
   "outputs": [],
   "source": [
    "import numpy as np\n",
    "import warnings\n",
    "warnings.filterwarnings('ignore')\n",
    "\n",
    "x = pd.read_csv(\"output.csv\")\n",
    "import pandas as pd\n",
    "data = pd.read_csv(\"cleaned_data.csv\")\n",
    "y = data['Y_data'].apply(lambda x: -1 if x == 0 else 1)"
   ]
  },
  {
   "cell_type": "markdown",
   "id": "ToNADEY9udnm",
   "metadata": {
    "id": "ToNADEY9udnm"
   },
   "source": [
    "## Solving Data Imbalance "
   ]
  },
  {
   "cell_type": "code",
   "execution_count": 19,
   "id": "fT4wXYr2uYsT",
   "metadata": {
    "colab": {
     "base_uri": "https://localhost:8080/",
     "height": 271
    },
    "id": "fT4wXYr2uYsT",
    "outputId": "bd417604-1860-442b-e215-f64ed441c6f4"
   },
   "outputs": [
    {
     "name": "stdout",
     "output_type": "stream",
     "text": [
      "Original dataset shape (2000, 768)\n",
      "Resample dataset shape (3862, 768)\n"
     ]
    },
    {
     "data": {
      "text/html": [
       "<div>\n",
       "<style scoped>\n",
       "    .dataframe tbody tr th:only-of-type {\n",
       "        vertical-align: middle;\n",
       "    }\n",
       "\n",
       "    .dataframe tbody tr th {\n",
       "        vertical-align: top;\n",
       "    }\n",
       "\n",
       "    .dataframe thead th {\n",
       "        text-align: right;\n",
       "    }\n",
       "</style>\n",
       "<table border=\"1\" class=\"dataframe\">\n",
       "  <thead>\n",
       "    <tr style=\"text-align: right;\">\n",
       "      <th></th>\n",
       "      <th>0</th>\n",
       "      <th>1</th>\n",
       "      <th>2</th>\n",
       "      <th>3</th>\n",
       "      <th>4</th>\n",
       "      <th>5</th>\n",
       "      <th>6</th>\n",
       "      <th>7</th>\n",
       "      <th>8</th>\n",
       "      <th>9</th>\n",
       "      <th>...</th>\n",
       "      <th>758</th>\n",
       "      <th>759</th>\n",
       "      <th>760</th>\n",
       "      <th>761</th>\n",
       "      <th>762</th>\n",
       "      <th>763</th>\n",
       "      <th>764</th>\n",
       "      <th>765</th>\n",
       "      <th>766</th>\n",
       "      <th>767</th>\n",
       "    </tr>\n",
       "    <tr>\n",
       "      <th>Y_data</th>\n",
       "      <th></th>\n",
       "      <th></th>\n",
       "      <th></th>\n",
       "      <th></th>\n",
       "      <th></th>\n",
       "      <th></th>\n",
       "      <th></th>\n",
       "      <th></th>\n",
       "      <th></th>\n",
       "      <th></th>\n",
       "      <th></th>\n",
       "      <th></th>\n",
       "      <th></th>\n",
       "      <th></th>\n",
       "      <th></th>\n",
       "      <th></th>\n",
       "      <th></th>\n",
       "      <th></th>\n",
       "      <th></th>\n",
       "      <th></th>\n",
       "      <th></th>\n",
       "    </tr>\n",
       "  </thead>\n",
       "  <tbody>\n",
       "    <tr>\n",
       "      <th>-1</th>\n",
       "      <td>1931</td>\n",
       "      <td>1931</td>\n",
       "      <td>1931</td>\n",
       "      <td>1931</td>\n",
       "      <td>1931</td>\n",
       "      <td>1931</td>\n",
       "      <td>1931</td>\n",
       "      <td>1931</td>\n",
       "      <td>1931</td>\n",
       "      <td>1931</td>\n",
       "      <td>...</td>\n",
       "      <td>1931</td>\n",
       "      <td>1931</td>\n",
       "      <td>1931</td>\n",
       "      <td>1931</td>\n",
       "      <td>1931</td>\n",
       "      <td>1931</td>\n",
       "      <td>1931</td>\n",
       "      <td>1931</td>\n",
       "      <td>1931</td>\n",
       "      <td>1931</td>\n",
       "    </tr>\n",
       "    <tr>\n",
       "      <th>1</th>\n",
       "      <td>1931</td>\n",
       "      <td>1931</td>\n",
       "      <td>1931</td>\n",
       "      <td>1931</td>\n",
       "      <td>1931</td>\n",
       "      <td>1931</td>\n",
       "      <td>1931</td>\n",
       "      <td>1931</td>\n",
       "      <td>1931</td>\n",
       "      <td>1931</td>\n",
       "      <td>...</td>\n",
       "      <td>1931</td>\n",
       "      <td>1931</td>\n",
       "      <td>1931</td>\n",
       "      <td>1931</td>\n",
       "      <td>1931</td>\n",
       "      <td>1931</td>\n",
       "      <td>1931</td>\n",
       "      <td>1931</td>\n",
       "      <td>1931</td>\n",
       "      <td>1931</td>\n",
       "    </tr>\n",
       "  </tbody>\n",
       "</table>\n",
       "<p>2 rows × 768 columns</p>\n",
       "</div>"
      ],
      "text/plain": [
       "           0     1     2     3     4     5     6     7     8     9  ...   758  \\\n",
       "Y_data                                                              ...         \n",
       "-1      1931  1931  1931  1931  1931  1931  1931  1931  1931  1931  ...  1931   \n",
       " 1      1931  1931  1931  1931  1931  1931  1931  1931  1931  1931  ...  1931   \n",
       "\n",
       "         759   760   761   762   763   764   765   766   767  \n",
       "Y_data                                                        \n",
       "-1      1931  1931  1931  1931  1931  1931  1931  1931  1931  \n",
       " 1      1931  1931  1931  1931  1931  1931  1931  1931  1931  \n",
       "\n",
       "[2 rows x 768 columns]"
      ]
     },
     "execution_count": 19,
     "metadata": {},
     "output_type": "execute_result"
    }
   ],
   "source": [
    "# import library\n",
    "from imblearn.over_sampling import SMOTE\n",
    "from collections import Counter\n",
    "\n",
    "smote = SMOTE()\n",
    "\n",
    "# fit predictor and target variable\n",
    "x_smote, y_smote = smote.fit_resample(x, y)\n",
    "\n",
    "print('Original dataset shape', x.shape)\n",
    "print('Resample dataset shape', x_smote.shape)\n",
    "SmoteData = x_smote.copy()\n",
    "SmoteData['Y_data'] = y_smote\n",
    "SmoteData.groupby('Y_data').count()"
   ]
  },
  {
   "cell_type": "code",
   "execution_count": 20,
   "id": "a67acfc5",
   "metadata": {},
   "outputs": [
    {
     "data": {
      "text/html": [
       "<div>\n",
       "<style scoped>\n",
       "    .dataframe tbody tr th:only-of-type {\n",
       "        vertical-align: middle;\n",
       "    }\n",
       "\n",
       "    .dataframe tbody tr th {\n",
       "        vertical-align: top;\n",
       "    }\n",
       "\n",
       "    .dataframe thead th {\n",
       "        text-align: right;\n",
       "    }\n",
       "</style>\n",
       "<table border=\"1\" class=\"dataframe\">\n",
       "  <thead>\n",
       "    <tr style=\"text-align: right;\">\n",
       "      <th></th>\n",
       "      <th>0</th>\n",
       "      <th>1</th>\n",
       "      <th>2</th>\n",
       "      <th>3</th>\n",
       "      <th>4</th>\n",
       "      <th>5</th>\n",
       "      <th>6</th>\n",
       "      <th>7</th>\n",
       "      <th>8</th>\n",
       "      <th>9</th>\n",
       "      <th>...</th>\n",
       "      <th>758</th>\n",
       "      <th>759</th>\n",
       "      <th>760</th>\n",
       "      <th>761</th>\n",
       "      <th>762</th>\n",
       "      <th>763</th>\n",
       "      <th>764</th>\n",
       "      <th>765</th>\n",
       "      <th>766</th>\n",
       "      <th>767</th>\n",
       "    </tr>\n",
       "    <tr>\n",
       "      <th>Y_data</th>\n",
       "      <th></th>\n",
       "      <th></th>\n",
       "      <th></th>\n",
       "      <th></th>\n",
       "      <th></th>\n",
       "      <th></th>\n",
       "      <th></th>\n",
       "      <th></th>\n",
       "      <th></th>\n",
       "      <th></th>\n",
       "      <th></th>\n",
       "      <th></th>\n",
       "      <th></th>\n",
       "      <th></th>\n",
       "      <th></th>\n",
       "      <th></th>\n",
       "      <th></th>\n",
       "      <th></th>\n",
       "      <th></th>\n",
       "      <th></th>\n",
       "      <th></th>\n",
       "    </tr>\n",
       "  </thead>\n",
       "  <tbody>\n",
       "    <tr>\n",
       "      <th>-1</th>\n",
       "      <td>1931</td>\n",
       "      <td>1931</td>\n",
       "      <td>1931</td>\n",
       "      <td>1931</td>\n",
       "      <td>1931</td>\n",
       "      <td>1931</td>\n",
       "      <td>1931</td>\n",
       "      <td>1931</td>\n",
       "      <td>1931</td>\n",
       "      <td>1931</td>\n",
       "      <td>...</td>\n",
       "      <td>1931</td>\n",
       "      <td>1931</td>\n",
       "      <td>1931</td>\n",
       "      <td>1931</td>\n",
       "      <td>1931</td>\n",
       "      <td>1931</td>\n",
       "      <td>1931</td>\n",
       "      <td>1931</td>\n",
       "      <td>1931</td>\n",
       "      <td>1931</td>\n",
       "    </tr>\n",
       "    <tr>\n",
       "      <th>1</th>\n",
       "      <td>1931</td>\n",
       "      <td>1931</td>\n",
       "      <td>1931</td>\n",
       "      <td>1931</td>\n",
       "      <td>1931</td>\n",
       "      <td>1931</td>\n",
       "      <td>1931</td>\n",
       "      <td>1931</td>\n",
       "      <td>1931</td>\n",
       "      <td>1931</td>\n",
       "      <td>...</td>\n",
       "      <td>1931</td>\n",
       "      <td>1931</td>\n",
       "      <td>1931</td>\n",
       "      <td>1931</td>\n",
       "      <td>1931</td>\n",
       "      <td>1931</td>\n",
       "      <td>1931</td>\n",
       "      <td>1931</td>\n",
       "      <td>1931</td>\n",
       "      <td>1931</td>\n",
       "    </tr>\n",
       "  </tbody>\n",
       "</table>\n",
       "<p>2 rows × 768 columns</p>\n",
       "</div>"
      ],
      "text/plain": [
       "           0     1     2     3     4     5     6     7     8     9  ...   758  \\\n",
       "Y_data                                                              ...         \n",
       "-1      1931  1931  1931  1931  1931  1931  1931  1931  1931  1931  ...  1931   \n",
       " 1      1931  1931  1931  1931  1931  1931  1931  1931  1931  1931  ...  1931   \n",
       "\n",
       "         759   760   761   762   763   764   765   766   767  \n",
       "Y_data                                                        \n",
       "-1      1931  1931  1931  1931  1931  1931  1931  1931  1931  \n",
       " 1      1931  1931  1931  1931  1931  1931  1931  1931  1931  \n",
       "\n",
       "[2 rows x 768 columns]"
      ]
     },
     "execution_count": 20,
     "metadata": {},
     "output_type": "execute_result"
    }
   ],
   "source": [
    "SmoteData.groupby('Y_data').count()"
   ]
  },
  {
   "cell_type": "markdown",
   "id": "2HoX4QTzv80J",
   "metadata": {
    "id": "2HoX4QTzv80J"
   },
   "source": [
    "---\n",
    "### **1--> ML models with Hyper-parameter tuning**\n",
    "---"
   ]
  },
  {
   "cell_type": "markdown",
   "id": "4MvkhAbgvs-L",
   "metadata": {
    "id": "4MvkhAbgvs-L"
   },
   "source": [
    "## Train/Test/Validation Data-Split"
   ]
  },
  {
   "cell_type": "code",
   "execution_count": 14,
   "id": "1AXJEbE_vqpQ",
   "metadata": {
    "id": "1AXJEbE_vqpQ"
   },
   "outputs": [],
   "source": [
    "from sklearn.model_selection import train_test_split\n",
    "import matplotlib.pyplot as plt\n",
    "\n",
    "# split train dataset into train, validation and test sets\n",
    "train_features, test_features, train_labels, test_labels = train_test_split(x_smote, y_smote,\n",
    "                                                                            random_state=2022, \n",
    "                                                                            test_size=0.2)\n",
    "\n",
    "class_names = ['Normal','Anomaly']"
   ]
  },
  {
   "cell_type": "markdown",
   "id": "ZuNoaTXR7X5p",
   "metadata": {
    "id": "ZuNoaTXR7X5p"
   },
   "source": [
    "#### *Searching for the best model*\n",
    "These above features-data is given as inputs for ML-Classifiers and best out them is found"
   ]
  },
  {
   "cell_type": "code",
   "execution_count": 37,
   "id": "okHVFMWgv6W0",
   "metadata": {
    "id": "okHVFMWgv6W0"
   },
   "outputs": [],
   "source": [
    "from sklearn.svm import OneClassSVM\n",
    "from sklearn.naive_bayes import GaussianNB\n",
    "from sklearn.neural_network import MLPClassifier\n",
    "from sklearn.gaussian_process import GaussianProcessClassifier\n",
    "from sklearn.linear_model import LogisticRegression, SGDClassifier, SGDOneClassSVM\n",
    "from sklearn.tree import DecisionTreeClassifier\n",
    "from sklearn.neighbors import KNeighborsClassifier, LocalOutlierFactor\n",
    "from sklearn.ensemble import RandomForestClassifier, AdaBoostClassifier, IsolationForest\n",
    "from sklearn.svm import SVC\n",
    "from sklearn.ensemble import GradientBoostingClassifier\n",
    "from sklearn.discriminant_analysis import QuadraticDiscriminantAnalysis\n",
    "from xgboost import XGBClassifier\n",
    "from lightgbm import LGBMClassifier\n",
    "\n",
    "names = [\"Lin OneClassSVM\", \"Poly OneClassSVM\", \"RBF OneClassSVM\", \n",
    "         \"Sig OneClassSVM\", \"Lin OneClassSVM - SGD\", \"LOF\", \"IsolationForest\", \n",
    "         \"Lin SVM\", \"Poly SVM\", \"RBF SVM\", \"Sig SVM\", \"lbfgs Log-Reg\", \n",
    "         \"saga Log-Reg\", \"SGD\", \"Naive Bayes\", \"Gaussian Process\", \"Decision Tree\", \n",
    "         \"Random Forest\", \"KNN\", \"GradientBoostingClassifier\", \"Neural Net\", \n",
    "         \"AdaBoost\", \"QDA\", \"LGBM\", \"XGB\"]\n",
    "\n",
    "classifiers = [OneClassSVM(kernel='linear',max_iter=10000), OneClassSVM(kernel='poly',max_iter=10000), \n",
    "               OneClassSVM(kernel='rbf',max_iter=10000), OneClassSVM(kernel='sigmoid',max_iter=10000),\n",
    "               SGDOneClassSVM(max_iter=10000), LocalOutlierFactor(novelty=True), IsolationForest(),\n",
    "               SVC(kernel='linear',max_iter=10000), SVC(kernel='poly',max_iter=10000), \n",
    "               SVC(kernel='rbf',max_iter=10000), SVC(kernel='sigmoid',max_iter=10000),\n",
    "               LogisticRegression(solver='lbfgs'), LogisticRegression(solver='saga'), SGDClassifier(), \n",
    "               GaussianNB(), GaussianProcessClassifier(), DecisionTreeClassifier(max_depth=25), \n",
    "               RandomForestClassifier(max_depth=25), KNeighborsClassifier(), GradientBoostingClassifier(max_depth=5),\n",
    "               MLPClassifier(max_iter=2500,early_stopping=True), AdaBoostClassifier(), \n",
    "               QuadraticDiscriminantAnalysis(), LGBMClassifier(), XGBClassifier()]"
   ]
  },
  {
   "cell_type": "code",
   "execution_count": 40,
   "id": "FbFQd528wTM7",
   "metadata": {
    "id": "FbFQd528wTM7"
   },
   "outputs": [],
   "source": [
    "from sklearn.metrics import accuracy_score, confusion_matrix, classification_report\n",
    "import time\n",
    "\n",
    "def runML():\n",
    "    for i in range(len(class_names)):\n",
    "        if (i == 0):\n",
    "            ii = -1\n",
    "        else:\n",
    "            ii = 1\n",
    "        print(\"CLASS - (\",ii,\") -->\",class_names[i])\n",
    "\n",
    "    fig = plt.figure(figsize=(18,20))\n",
    "    fig.tight_layout()\n",
    "    nof_clsfrs = len(names)\n",
    "    Metrics = {}\n",
    "    \n",
    "    print('\\nClassification Report for each Classifier:')\n",
    "    for i in range(nof_clsfrs):\n",
    "        metric = []\n",
    "        classifier = classifiers[i]\n",
    "        plt.subplot(nof_clsfrs/5,5,i+1)\n",
    "        plt.xticks([])\n",
    "        plt.yticks([])\n",
    "    \n",
    "        print(f'\\n\\nClassifier: {str(classifier)[:30]}...')\n",
    "        start_time = time.time(); classifier.fit(train_features, train_labels); metric.append(time.time() - start_time); \n",
    "        start_time = time.time(); test_pred = classifier.predict(test_features); metric.append(time.time() - start_time);\n",
    "        acc = accuracy_score(test_labels,test_pred) *100; metric.append(acc);\n",
    "        Metrics[names[i]] = metric\n",
    "        #print(f'Accuracy  is {acc}%, Report:')\n",
    "        print(classification_report(test_labels, test_pred))\n",
    "    \n",
    "        plt.gca().set_title(names[i])\n",
    "        CM = confusion_matrix(test_labels, test_pred)\n",
    "        plt.imshow(CM,interpolation='nearest',cmap='summer')\n",
    "        for (i, j), z in np.ndenumerate(CM):\n",
    "            plt.text(j, i, z, ha='center', va='center')\n",
    "        plt.xticks(np.arange(len(class_names)),class_names, fontsize=8)\n",
    "        plt.yticks(np.arange(len(class_names)))\n",
    "        plt.grid(False)\n",
    "    plt.show()\n",
    "    return Metrics"
   ]
  },
  {
   "cell_type": "markdown",
   "id": "UL5bengFwnk3",
   "metadata": {
    "id": "UL5bengFwnk3"
   },
   "source": [
    "#### *Fitting and Ploting results*"
   ]
  },
  {
   "cell_type": "code",
   "execution_count": 41,
   "id": "LUsbr_n_wj4s",
   "metadata": {
    "colab": {
     "base_uri": "https://localhost:8080/",
     "height": 1000
    },
    "id": "LUsbr_n_wj4s",
    "outputId": "587788a2-1c50-42d5-d962-de8c20fe30e0"
   },
   "outputs": [
    {
     "name": "stdout",
     "output_type": "stream",
     "text": [
      "CLASS - ( -1 ) --> Normal\n",
      "CLASS - ( 1 ) --> Anomaly\n",
      "\n",
      "Classification Report for each Classifier:\n",
      "\n",
      "\n",
      "Classifier: OneClassSVM(kernel='linear', m...\n",
      "              precision    recall  f1-score   support\n",
      "\n",
      "          -1       0.50      0.51      0.50       377\n",
      "           1       0.52      0.51      0.52       396\n",
      "\n",
      "    accuracy                           0.51       773\n",
      "   macro avg       0.51      0.51      0.51       773\n",
      "weighted avg       0.51      0.51      0.51       773\n",
      "\n",
      "\n",
      "\n",
      "Classifier: OneClassSVM(kernel='poly', max...\n",
      "              precision    recall  f1-score   support\n",
      "\n",
      "          -1       0.49      0.50      0.50       377\n",
      "           1       0.52      0.51      0.51       396\n",
      "\n",
      "    accuracy                           0.51       773\n",
      "   macro avg       0.51      0.51      0.51       773\n",
      "weighted avg       0.51      0.51      0.51       773\n",
      "\n",
      "\n",
      "\n",
      "Classifier: OneClassSVM(max_iter=10000)...\n",
      "              precision    recall  f1-score   support\n",
      "\n",
      "          -1       0.54      0.59      0.57       377\n",
      "           1       0.57      0.52      0.55       396\n",
      "\n",
      "    accuracy                           0.56       773\n",
      "   macro avg       0.56      0.56      0.56       773\n",
      "weighted avg       0.56      0.56      0.56       773\n",
      "\n",
      "\n",
      "\n",
      "Classifier: OneClassSVM(kernel='sigmoid', ...\n",
      "              precision    recall  f1-score   support\n",
      "\n",
      "          -1       0.50      0.51      0.50       377\n",
      "           1       0.52      0.51      0.52       396\n",
      "\n",
      "    accuracy                           0.51       773\n",
      "   macro avg       0.51      0.51      0.51       773\n",
      "weighted avg       0.51      0.51      0.51       773\n",
      "\n",
      "\n",
      "\n",
      "Classifier: SGDOneClassSVM(max_iter=10000)...\n",
      "              precision    recall  f1-score   support\n",
      "\n",
      "          -1       0.45      0.04      0.07       377\n",
      "           1       0.51      0.96      0.67       396\n",
      "\n",
      "    accuracy                           0.51       773\n",
      "   macro avg       0.48      0.50      0.37       773\n",
      "weighted avg       0.48      0.51      0.37       773\n",
      "\n",
      "\n",
      "\n",
      "Classifier: LocalOutlierFactor(novelty=Tru...\n",
      "              precision    recall  f1-score   support\n",
      "\n",
      "          -1       0.90      0.37      0.52       377\n",
      "           1       0.61      0.96      0.75       396\n",
      "\n",
      "    accuracy                           0.67       773\n",
      "   macro avg       0.75      0.66      0.63       773\n",
      "weighted avg       0.75      0.67      0.64       773\n",
      "\n",
      "\n",
      "\n",
      "Classifier: IsolationForest()...\n",
      "              precision    recall  f1-score   support\n",
      "\n",
      "          -1       0.62      0.12      0.20       377\n",
      "           1       0.53      0.93      0.67       396\n",
      "\n",
      "    accuracy                           0.54       773\n",
      "   macro avg       0.58      0.53      0.44       773\n",
      "weighted avg       0.57      0.54      0.44       773\n",
      "\n",
      "\n",
      "\n",
      "Classifier: SVC(kernel='linear', max_iter=...\n",
      "              precision    recall  f1-score   support\n",
      "\n",
      "          -1       0.97      0.74      0.84       377\n",
      "           1       0.80      0.98      0.88       396\n",
      "\n",
      "    accuracy                           0.86       773\n",
      "   macro avg       0.88      0.86      0.86       773\n",
      "weighted avg       0.88      0.86      0.86       773\n",
      "\n",
      "\n",
      "\n",
      "Classifier: SVC(kernel='poly', max_iter=10...\n",
      "              precision    recall  f1-score   support\n",
      "\n",
      "          -1       0.59      0.40      0.47       377\n",
      "           1       0.56      0.74      0.64       396\n",
      "\n",
      "    accuracy                           0.57       773\n",
      "   macro avg       0.58      0.57      0.56       773\n",
      "weighted avg       0.57      0.57      0.56       773\n",
      "\n",
      "\n",
      "\n",
      "Classifier: SVC(max_iter=10000)...\n",
      "              precision    recall  f1-score   support\n",
      "\n",
      "          -1       0.59      0.40      0.47       377\n",
      "           1       0.56      0.74      0.64       396\n",
      "\n",
      "    accuracy                           0.57       773\n",
      "   macro avg       0.58      0.57      0.56       773\n",
      "weighted avg       0.58      0.57      0.56       773\n",
      "\n",
      "\n",
      "\n",
      "Classifier: SVC(kernel='sigmoid', max_iter...\n",
      "              precision    recall  f1-score   support\n",
      "\n",
      "          -1       0.49      1.00      0.65       377\n",
      "           1       0.00      0.00      0.00       396\n",
      "\n",
      "    accuracy                           0.49       773\n",
      "   macro avg       0.24      0.50      0.33       773\n",
      "weighted avg       0.24      0.49      0.32       773\n",
      "\n",
      "\n",
      "\n",
      "Classifier: LogisticRegression()...\n",
      "              precision    recall  f1-score   support\n",
      "\n",
      "          -1       0.85      0.78      0.81       377\n",
      "           1       0.80      0.87      0.83       396\n",
      "\n",
      "    accuracy                           0.82       773\n",
      "   macro avg       0.83      0.82      0.82       773\n",
      "weighted avg       0.83      0.82      0.82       773\n",
      "\n",
      "\n",
      "\n",
      "Classifier: LogisticRegression(solver='sag...\n",
      "              precision    recall  f1-score   support\n",
      "\n",
      "          -1       0.79      0.72      0.75       377\n",
      "           1       0.75      0.82      0.78       396\n",
      "\n",
      "    accuracy                           0.77       773\n",
      "   macro avg       0.77      0.77      0.77       773\n",
      "weighted avg       0.77      0.77      0.77       773\n",
      "\n",
      "\n",
      "\n",
      "Classifier: SGDClassifier()...\n",
      "              precision    recall  f1-score   support\n",
      "\n",
      "          -1       0.88      0.64      0.74       377\n",
      "           1       0.73      0.92      0.81       396\n",
      "\n",
      "    accuracy                           0.78       773\n",
      "   macro avg       0.81      0.78      0.78       773\n",
      "weighted avg       0.80      0.78      0.78       773\n",
      "\n",
      "\n",
      "\n",
      "Classifier: GaussianNB()...\n",
      "              precision    recall  f1-score   support\n",
      "\n",
      "          -1       0.59      0.33      0.42       377\n",
      "           1       0.55      0.78      0.64       396\n",
      "\n",
      "    accuracy                           0.56       773\n",
      "   macro avg       0.57      0.55      0.53       773\n",
      "weighted avg       0.57      0.56      0.54       773\n",
      "\n",
      "\n",
      "\n",
      "Classifier: GaussianProcessClassifier()...\n",
      "              precision    recall  f1-score   support\n",
      "\n",
      "          -1       0.96      0.88      0.92       377\n",
      "           1       0.89      0.97      0.93       396\n",
      "\n",
      "    accuracy                           0.92       773\n",
      "   macro avg       0.93      0.92      0.92       773\n",
      "weighted avg       0.93      0.92      0.92       773\n",
      "\n",
      "\n",
      "\n",
      "Classifier: DecisionTreeClassifier(max_dep...\n",
      "              precision    recall  f1-score   support\n",
      "\n",
      "          -1       0.96      0.87      0.91       377\n",
      "           1       0.88      0.97      0.92       396\n",
      "\n",
      "    accuracy                           0.92       773\n",
      "   macro avg       0.92      0.92      0.92       773\n",
      "weighted avg       0.92      0.92      0.92       773\n",
      "\n",
      "\n",
      "\n",
      "Classifier: RandomForestClassifier(max_dep...\n",
      "              precision    recall  f1-score   support\n",
      "\n",
      "          -1       0.99      0.99      0.99       377\n",
      "           1       0.99      0.99      0.99       396\n",
      "\n",
      "    accuracy                           0.99       773\n",
      "   macro avg       0.99      0.99      0.99       773\n",
      "weighted avg       0.99      0.99      0.99       773\n",
      "\n",
      "\n",
      "\n",
      "Classifier: KNeighborsClassifier()...\n",
      "              precision    recall  f1-score   support\n",
      "\n",
      "          -1       1.00      0.66      0.79       377\n",
      "           1       0.75      1.00      0.86       396\n",
      "\n",
      "    accuracy                           0.83       773\n",
      "   macro avg       0.88      0.83      0.83       773\n",
      "weighted avg       0.87      0.83      0.83       773\n",
      "\n",
      "\n",
      "\n",
      "Classifier: GradientBoostingClassifier(max...\n",
      "              precision    recall  f1-score   support\n",
      "\n",
      "          -1       0.99      0.97      0.98       377\n",
      "           1       0.98      0.99      0.98       396\n",
      "\n",
      "    accuracy                           0.98       773\n",
      "   macro avg       0.98      0.98      0.98       773\n",
      "weighted avg       0.98      0.98      0.98       773\n",
      "\n",
      "\n",
      "\n",
      "Classifier: MLPClassifier(early_stopping=T...\n",
      "              precision    recall  f1-score   support\n",
      "\n",
      "          -1       0.69      0.54      0.61       377\n",
      "           1       0.64      0.76      0.69       396\n",
      "\n",
      "    accuracy                           0.66       773\n",
      "   macro avg       0.66      0.65      0.65       773\n",
      "weighted avg       0.66      0.66      0.65       773\n",
      "\n",
      "\n",
      "\n",
      "Classifier: AdaBoostClassifier()...\n",
      "              precision    recall  f1-score   support\n",
      "\n",
      "          -1       0.92      0.84      0.88       377\n",
      "           1       0.86      0.93      0.89       396\n",
      "\n",
      "    accuracy                           0.89       773\n",
      "   macro avg       0.89      0.89      0.89       773\n",
      "weighted avg       0.89      0.89      0.89       773\n",
      "\n",
      "\n",
      "\n",
      "Classifier: QuadraticDiscriminantAnalysis(...\n",
      "              precision    recall  f1-score   support\n",
      "\n",
      "          -1       1.00      1.00      1.00       377\n",
      "           1       1.00      1.00      1.00       396\n",
      "\n",
      "    accuracy                           1.00       773\n",
      "   macro avg       1.00      1.00      1.00       773\n",
      "weighted avg       1.00      1.00      1.00       773\n",
      "\n",
      "\n",
      "\n",
      "Classifier: LGBMClassifier()...\n",
      "              precision    recall  f1-score   support\n",
      "\n",
      "          -1       1.00      0.99      1.00       377\n",
      "           1       0.99      1.00      1.00       396\n",
      "\n",
      "    accuracy                           1.00       773\n",
      "   macro avg       1.00      1.00      1.00       773\n",
      "weighted avg       1.00      1.00      1.00       773\n",
      "\n",
      "\n",
      "\n",
      "Classifier: XGBClassifier()...\n",
      "              precision    recall  f1-score   support\n",
      "\n",
      "          -1       0.96      0.90      0.93       377\n",
      "           1       0.91      0.96      0.94       396\n",
      "\n",
      "    accuracy                           0.93       773\n",
      "   macro avg       0.93      0.93      0.93       773\n",
      "weighted avg       0.93      0.93      0.93       773\n",
      "\n"
     ]
    },
    {
     "data": {
      "image/png": "[encoded data removed]",
      "text/plain": [
       "<Figure size 1296x1440 with 25 Axes>"
      ]
     },
     "metadata": {
      "needs_background": "light"
     },
     "output_type": "display_data"
    }
   ],
   "source": [
    "Metrics = runML()"
   ]
  },
  {
   "cell_type": "code",
   "execution_count": 42,
   "id": "5voN7M8YwvUu",
   "metadata": {
    "colab": {
     "base_uri": "https://localhost:8080/",
     "height": 1000
    },
    "id": "5voN7M8YwvUu",
    "outputId": "30899df9-25cd-4290-ed3f-41c2fa5ae05f",
    "scrolled": true
   },
   "outputs": [
    {
     "name": "stdout",
     "output_type": "stream",
     "text": [
      "\n",
      "Classifier for which max Accuracy is obtained:\n",
      "Training-time        0.990178\n",
      "Prediction-time      0.067283\n",
      "Accuracy           100.000000\n",
      "Name: QDA, dtype: float64\n",
      "\n",
      "\n",
      "Classifier for which min Training-time is obtained:\n",
      "Training-time       0.008269\n",
      "Prediction-time     0.182106\n",
      "Accuracy           83.311772\n",
      "Name: KNN, dtype: float64\n",
      "\n",
      "\n",
      "Classifier for which min Prediction-time is obtained:\n",
      "Training-time       0.034339\n",
      "Prediction-time     0.005935\n",
      "Accuracy           50.840880\n",
      "Name: Lin OneClassSVM - SGD, dtype: float64\n",
      "\n",
      "\n",
      "Results of all the Classifiers:\n"
     ]
    },
    {
     "data": {
      "text/html": [
       "\n",
       "  <div id=\"df-90d737ad-1eb0-4034-8475-d34af9fcf934\">\n",
       "    <div class=\"colab-df-container\">\n",
       "      <div>\n",
       "<style scoped>\n",
       "    .dataframe tbody tr th:only-of-type {\n",
       "        vertical-align: middle;\n",
       "    }\n",
       "\n",
       "    .dataframe tbody tr th {\n",
       "        vertical-align: top;\n",
       "    }\n",
       "\n",
       "    .dataframe thead th {\n",
       "        text-align: right;\n",
       "    }\n",
       "</style>\n",
       "<table border=\"1\" class=\"dataframe\">\n",
       "  <thead>\n",
       "    <tr style=\"text-align: right;\">\n",
       "      <th></th>\n",
       "      <th>Training-time</th>\n",
       "      <th>Prediction-time</th>\n",
       "      <th>Accuracy</th>\n",
       "    </tr>\n",
       "  </thead>\n",
       "  <tbody>\n",
       "    <tr>\n",
       "      <th>QDA</th>\n",
       "      <td>0.990178</td>\n",
       "      <td>0.067283</td>\n",
       "      <td>100.000000</td>\n",
       "    </tr>\n",
       "    <tr>\n",
       "      <th>LGBM</th>\n",
       "      <td>13.374086</td>\n",
       "      <td>0.016873</td>\n",
       "      <td>99.741268</td>\n",
       "    </tr>\n",
       "    <tr>\n",
       "      <th>Random Forest</th>\n",
       "      <td>7.830748</td>\n",
       "      <td>0.027998</td>\n",
       "      <td>99.223803</td>\n",
       "    </tr>\n",
       "    <tr>\n",
       "      <th>GradientBoostingClassifier</th>\n",
       "      <td>110.791965</td>\n",
       "      <td>0.014699</td>\n",
       "      <td>98.447607</td>\n",
       "    </tr>\n",
       "    <tr>\n",
       "      <th>XGB</th>\n",
       "      <td>12.522847</td>\n",
       "      <td>0.017378</td>\n",
       "      <td>93.272962</td>\n",
       "    </tr>\n",
       "    <tr>\n",
       "      <th>Gaussian Process</th>\n",
       "      <td>15.278801</td>\n",
       "      <td>2.528587</td>\n",
       "      <td>92.367400</td>\n",
       "    </tr>\n",
       "    <tr>\n",
       "      <th>Decision Tree</th>\n",
       "      <td>3.349145</td>\n",
       "      <td>0.006808</td>\n",
       "      <td>91.849935</td>\n",
       "    </tr>\n",
       "    <tr>\n",
       "      <th>AdaBoost</th>\n",
       "      <td>14.930097</td>\n",
       "      <td>0.057314</td>\n",
       "      <td>88.615783</td>\n",
       "    </tr>\n",
       "    <tr>\n",
       "      <th>Lin SVM</th>\n",
       "      <td>1.900675</td>\n",
       "      <td>0.382161</td>\n",
       "      <td>86.287193</td>\n",
       "    </tr>\n",
       "    <tr>\n",
       "      <th>KNN</th>\n",
       "      <td>0.008269</td>\n",
       "      <td>0.182106</td>\n",
       "      <td>83.311772</td>\n",
       "    </tr>\n",
       "    <tr>\n",
       "      <th>lbfgs Log-Reg</th>\n",
       "      <td>0.322530</td>\n",
       "      <td>0.009474</td>\n",
       "      <td>82.406210</td>\n",
       "    </tr>\n",
       "    <tr>\n",
       "      <th>SGD</th>\n",
       "      <td>0.418029</td>\n",
       "      <td>0.006372</td>\n",
       "      <td>78.395860</td>\n",
       "    </tr>\n",
       "    <tr>\n",
       "      <th>saga Log-Reg</th>\n",
       "      <td>2.501591</td>\n",
       "      <td>0.006323</td>\n",
       "      <td>76.972833</td>\n",
       "    </tr>\n",
       "    <tr>\n",
       "      <th>LOF</th>\n",
       "      <td>0.410968</td>\n",
       "      <td>0.146810</td>\n",
       "      <td>67.011643</td>\n",
       "    </tr>\n",
       "    <tr>\n",
       "      <th>Neural Net</th>\n",
       "      <td>4.249635</td>\n",
       "      <td>0.030387</td>\n",
       "      <td>65.588616</td>\n",
       "    </tr>\n",
       "    <tr>\n",
       "      <th>RBF SVM</th>\n",
       "      <td>2.658658</td>\n",
       "      <td>0.985783</td>\n",
       "      <td>57.309185</td>\n",
       "    </tr>\n",
       "    <tr>\n",
       "      <th>Poly SVM</th>\n",
       "      <td>2.391074</td>\n",
       "      <td>0.577728</td>\n",
       "      <td>57.050453</td>\n",
       "    </tr>\n",
       "    <tr>\n",
       "      <th>Naive Bayes</th>\n",
       "      <td>0.035898</td>\n",
       "      <td>0.015595</td>\n",
       "      <td>56.015524</td>\n",
       "    </tr>\n",
       "    <tr>\n",
       "      <th>RBF OneClassSVM</th>\n",
       "      <td>1.981425</td>\n",
       "      <td>0.521853</td>\n",
       "      <td>55.627426</td>\n",
       "    </tr>\n",
       "    <tr>\n",
       "      <th>IsolationForest</th>\n",
       "      <td>0.676061</td>\n",
       "      <td>0.212932</td>\n",
       "      <td>53.557568</td>\n",
       "    </tr>\n",
       "    <tr>\n",
       "      <th>Sig OneClassSVM</th>\n",
       "      <td>2.037405</td>\n",
       "      <td>0.361413</td>\n",
       "      <td>51.099612</td>\n",
       "    </tr>\n",
       "    <tr>\n",
       "      <th>Lin OneClassSVM</th>\n",
       "      <td>1.817755</td>\n",
       "      <td>0.313781</td>\n",
       "      <td>50.970246</td>\n",
       "    </tr>\n",
       "    <tr>\n",
       "      <th>Lin OneClassSVM - SGD</th>\n",
       "      <td>0.034339</td>\n",
       "      <td>0.005935</td>\n",
       "      <td>50.840880</td>\n",
       "    </tr>\n",
       "    <tr>\n",
       "      <th>Poly OneClassSVM</th>\n",
       "      <td>1.868596</td>\n",
       "      <td>0.322042</td>\n",
       "      <td>50.711514</td>\n",
       "    </tr>\n",
       "    <tr>\n",
       "      <th>Sig SVM</th>\n",
       "      <td>2.858593</td>\n",
       "      <td>0.707470</td>\n",
       "      <td>48.641656</td>\n",
       "    </tr>\n",
       "  </tbody>\n",
       "</table>\n",
       "</div>\n",
       "      <button class=\"colab-df-convert\" onclick=\"convertToInteractive('df-90d737ad-1eb0-4034-8475-d34af9fcf934')\"\n",
       "              title=\"Convert this dataframe to an interactive table.\"\n",
       "              style=\"display:none;\">\n",
       "        \n",
       "  <svg xmlns=\"http://www.w3.org/2000/svg\" height=\"24px\"viewBox=\"0 0 24 24\"\n",
       "       width=\"24px\">\n",
       "    <path d=\"M0 0h24v24H0V0z\" fill=\"none\"/>\n",
       "    <path d=\"M18.56 5.44l.94 2.06.94-2.06 2.06-.94-2.06-.94-.94-2.06-.94 2.06-2.06.94zm-11 1L8.5 8.5l.94-2.06 2.06-.94-2.06-.94L8.5 2.5l-.94 2.06-2.06.94zm10 10l.94 2.06.94-2.06 2.06-.94-2.06-.94-.94-2.06-.94 2.06-2.06.94z\"/><path d=\"M17.41 7.96l-1.37-1.37c-.4-.4-.92-.59-1.43-.59-.52 0-1.04.2-1.43.59L10.3 9.45l-7.72 7.72c-.78.78-.78 2.05 0 2.83L4 21.41c.39.39.9.59 1.41.59.51 0 1.02-.2 1.41-.59l7.78-7.78 2.81-2.81c.8-.78.8-2.07 0-2.86zM5.41 20L4 18.59l7.72-7.72 1.47 1.35L5.41 20z\"/>\n",
       "  </svg>\n",
       "      </button>\n",
       "      \n",
       "  <style>\n",
       "    .colab-df-container {\n",
       "      display:flex;\n",
       "      flex-wrap:wrap;\n",
       "      gap: 12px;\n",
       "    }\n",
       "\n",
       "    .colab-df-convert {\n",
       "      background-color: #E8F0FE;\n",
       "      border: none;\n",
       "      border-radius: 50%;\n",
       "      cursor: pointer;\n",
       "      display: none;\n",
       "      fill: #1967D2;\n",
       "      height: 32px;\n",
       "      padding: 0 0 0 0;\n",
       "      width: 32px;\n",
       "    }\n",
       "\n",
       "    .colab-df-convert:hover {\n",
       "      background-color: #E2EBFA;\n",
       "      box-shadow: 0px 1px 2px rgba(60, 64, 67, 0.3), 0px 1px 3px 1px rgba(60, 64, 67, 0.15);\n",
       "      fill: #174EA6;\n",
       "    }\n",
       "\n",
       "    [theme=dark] .colab-df-convert {\n",
       "      background-color: #3B4455;\n",
       "      fill: #D2E3FC;\n",
       "    }\n",
       "\n",
       "    [theme=dark] .colab-df-convert:hover {\n",
       "      background-color: #434B5C;\n",
       "      box-shadow: 0px 1px 3px 1px rgba(0, 0, 0, 0.15);\n",
       "      filter: drop-shadow(0px 1px 2px rgba(0, 0, 0, 0.3));\n",
       "      fill: #FFFFFF;\n",
       "    }\n",
       "  </style>\n",
       "\n",
       "      <script>\n",
       "        const buttonEl =\n",
       "          document.querySelector('#df-90d737ad-1eb0-4034-8475-d34af9fcf934 button.colab-df-convert');\n",
       "        buttonEl.style.display =\n",
       "          google.colab.kernel.accessAllowed ? 'block' : 'none';\n",
       "\n",
       "        async function convertToInteractive(key) {\n",
       "          const element = document.querySelector('#df-90d737ad-1eb0-4034-8475-d34af9fcf934');\n",
       "          const dataTable =\n",
       "            await google.colab.kernel.invokeFunction('convertToInteractive',\n",
       "                                                     [key], {});\n",
       "          if (!dataTable) return;\n",
       "\n",
       "          const docLinkHtml = 'Like what you see? Visit the ' +\n",
       "            '<a target=\"_blank\" href=https://colab.research.google.com/notebooks/data_table.ipynb>data table notebook</a>'\n",
       "            + ' to learn more about interactive tables.';\n",
       "          element.innerHTML = '';\n",
       "          dataTable['output_type'] = 'display_data';\n",
       "          await google.colab.output.renderOutput(dataTable, element);\n",
       "          const docLink = document.createElement('div');\n",
       "          docLink.innerHTML = docLinkHtml;\n",
       "          element.appendChild(docLink);\n",
       "        }\n",
       "      </script>\n",
       "    </div>\n",
       "  </div>\n",
       "  "
      ],
      "text/plain": [
       "                            Training-time  Prediction-time    Accuracy\n",
       "QDA                              0.990178         0.067283  100.000000\n",
       "LGBM                            13.374086         0.016873   99.741268\n",
       "Random Forest                    7.830748         0.027998   99.223803\n",
       "GradientBoostingClassifier     110.791965         0.014699   98.447607\n",
       "XGB                             12.522847         0.017378   93.272962\n",
       "Gaussian Process                15.278801         2.528587   92.367400\n",
       "Decision Tree                    3.349145         0.006808   91.849935\n",
       "AdaBoost                        14.930097         0.057314   88.615783\n",
       "Lin SVM                          1.900675         0.382161   86.287193\n",
       "KNN                              0.008269         0.182106   83.311772\n",
       "lbfgs Log-Reg                    0.322530         0.009474   82.406210\n",
       "SGD                              0.418029         0.006372   78.395860\n",
       "saga Log-Reg                     2.501591         0.006323   76.972833\n",
       "LOF                              0.410968         0.146810   67.011643\n",
       "Neural Net                       4.249635         0.030387   65.588616\n",
       "RBF SVM                          2.658658         0.985783   57.309185\n",
       "Poly SVM                         2.391074         0.577728   57.050453\n",
       "Naive Bayes                      0.035898         0.015595   56.015524\n",
       "RBF OneClassSVM                  1.981425         0.521853   55.627426\n",
       "IsolationForest                  0.676061         0.212932   53.557568\n",
       "Sig OneClassSVM                  2.037405         0.361413   51.099612\n",
       "Lin OneClassSVM                  1.817755         0.313781   50.970246\n",
       "Lin OneClassSVM - SGD            0.034339         0.005935   50.840880\n",
       "Poly OneClassSVM                 1.868596         0.322042   50.711514\n",
       "Sig SVM                          2.858593         0.707470   48.641656"
      ]
     },
     "execution_count": 42,
     "metadata": {},
     "output_type": "execute_result"
    }
   ],
   "source": [
    "result = pd.DataFrame(Metrics.values(), columns =['Training-time', 'Prediction-time', 'Accuracy'])\n",
    "result.index = Metrics.keys()\n",
    "\n",
    "print(\"\\nClassifier for which max Accuracy is obtained:\")\n",
    "print(result.loc[result[\"Accuracy\"].idxmax()])\n",
    "\n",
    "print(\"\\n\\nClassifier for which min Training-time is obtained:\")\n",
    "print(result.loc[result[\"Training-time\"].idxmin()])\n",
    "\n",
    "print(\"\\n\\nClassifier for which min Prediction-time is obtained:\")\n",
    "print(result.loc[result[\"Prediction-time\"].idxmin()])\n",
    "\n",
    "print(\"\\n\\nResults of all the Classifiers:\")\n",
    "result.sort_values(by=\"Accuracy\", ascending=False)"
   ]
  },
  {
   "cell_type": "markdown",
   "id": "wuuAZqgYxTl-",
   "metadata": {
    "id": "wuuAZqgYxTl-"
   },
   "source": [
    "---\n",
    "### **2--> Bert + Dense layers only approach**\n",
    "---"
   ]
  },
  {
   "cell_type": "markdown",
   "id": "7-XMTGnM7n2G",
   "metadata": {
    "id": "7-XMTGnM7n2G"
   },
   "source": [
    "## Train/Test/Validation Data-Split"
   ]
  },
  {
   "cell_type": "code",
   "execution_count": null,
   "id": "oPn-sr6O7n2J",
   "metadata": {
    "id": "oPn-sr6O7n2J"
   },
   "outputs": [],
   "source": [
    "from sklearn.model_selection import train_test_split\n",
    "import matplotlib.pyplot as plt\n",
    "\n",
    "# split train dataset into train, validation and test sets\n",
    "train_text, test_text, train_labels, test_labels = train_test_split(data['X_data'], data['Y_data'],\n",
    "                                                                            random_state=2022, \n",
    "                                                                            test_size=0.2, \n",
    "                                                                            stratify=data['Y_data'])\n",
    "\n",
    "class_names = ['Normal','Anomaly']"
   ]
  },
  {
   "cell_type": "code",
   "execution_count": null,
   "id": "w6UxHqYT0BRS",
   "metadata": {
    "id": "w6UxHqYT0BRS"
   },
   "outputs": [],
   "source": [
    "# change trainable parameter again\n",
    "bert_preprocess = hub.KerasLayer(tfhub_handle_preprocess, name='preprocess', trainable=True)\n",
    "bert_encoder = hub.KerasLayer(tfhub_handle_encoder, name='encoder', trainable=True)"
   ]
  },
  {
   "cell_type": "code",
   "execution_count": null,
   "id": "jdzapWf2w5dQ",
   "metadata": {
    "colab": {
     "base_uri": "https://localhost:8080/"
    },
    "id": "jdzapWf2w5dQ",
    "outputId": "92beab9d-97c1-40b7-bf9f-10d0963dce7d"
   },
   "outputs": [
    {
     "name": "stderr",
     "output_type": "stream",
     "text": [
      "ERROR:absl:hub.KerasLayer is trainable but has zero trainable weights.\n"
     ]
    }
   ],
   "source": [
    "# Bert layers\n",
    "text_input = tf.keras.layers.Input(shape=(), dtype=tf.string, name='text')\n",
    "preprocessed_text = bert_preprocess(text_input)\n",
    "outputs = bert_encoder(preprocessed_text)\n",
    "# Neural network layers\n",
    "l = tf.keras.layers.Dropout(0.1, name=\"dropout1\")(outputs['pooled_output'])\n",
    "l = tf.keras.layers.Dense(2048, activation='relu', name=\"fc1\")(l)\n",
    "l = tf.keras.layers.Dense(2048, activation='relu', name=\"fc2\")(l)\n",
    "l = tf.keras.layers.Dropout(0.1, name=\"dropout2\")(l)\n",
    "l = tf.keras.layers.Dense(1024, activation='relu', name=\"fc3\")(l)\n",
    "l = tf.keras.layers.Dense(1, activation='sigmoid', name=\"output\")(l)\n",
    "# Use inputs and outputs to construct a final model\n",
    "model = tf.keras.Model(inputs=[text_input], outputs = [l])"
   ]
  },
  {
   "cell_type": "code",
   "execution_count": null,
   "id": "CSlHKyYMxxqS",
   "metadata": {
    "colab": {
     "base_uri": "https://localhost:8080/",
     "height": 1000
    },
    "id": "CSlHKyYMxxqS",
    "outputId": "ed9522bb-bd48-4b91-dd00-988966a6397b"
   },
   "outputs": [
    {
     "name": "stdout",
     "output_type": "stream",
     "text": [
      "Model: \"small_bert/bert_en_uncased_L-12_H-768_A-12\"\n",
      "__________________________________________________________________________________________________\n",
      " Layer (type)                   Output Shape         Param #     Connected to                     \n",
      "==================================================================================================\n",
      " text (InputLayer)              [(None,)]            0           []                               \n",
      "                                                                                                  \n",
      " preprocess (KerasLayer)        {'input_mask': (Non  0           ['text[0][0]']                   \n",
      "                                e, 128),                                                          \n",
      "                                 'input_type_ids':                                                \n",
      "                                (None, 128),                                                      \n",
      "                                 'input_word_ids':                                                \n",
      "                                (None, 128)}                                                      \n",
      "                                                                                                  \n",
      " encoder (KerasLayer)           {'default': (None,   109482241   ['preprocess[0][0]',             \n",
      "                                768),                             'preprocess[0][1]',             \n",
      "                                 'encoder_outputs':               'preprocess[0][2]']             \n",
      "                                 [(None, 128, 768),                                               \n",
      "                                 (None, 128, 768),                                                \n",
      "                                 (None, 128, 768),                                                \n",
      "                                 (None, 128, 768),                                                \n",
      "                                 (None, 128, 768),                                                \n",
      "                                 (None, 128, 768),                                                \n",
      "                                 (None, 128, 768),                                                \n",
      "                                 (None, 128, 768),                                                \n",
      "                                 (None, 128, 768),                                                \n",
      "                                 (None, 128, 768),                                                \n",
      "                                 (None, 128, 768),                                                \n",
      "                                 (None, 128, 768)],                                               \n",
      "                                 'pooled_output': (                                               \n",
      "                                None, 768),                                                       \n",
      "                                 'sequence_output':                                               \n",
      "                                 (None, 128, 768)}                                                \n",
      "                                                                                                  \n",
      " dropout1 (Dropout)             (None, 768)          0           ['encoder[0][13]']               \n",
      "                                                                                                  \n",
      " fc1 (Dense)                    (None, 2048)         1574912     ['dropout1[0][0]']               \n",
      "                                                                                                  \n",
      " fc2 (Dense)                    (None, 2048)         4196352     ['fc1[0][0]']                    \n",
      "                                                                                                  \n",
      " dropout2 (Dropout)             (None, 2048)         0           ['fc2[0][0]']                    \n",
      "                                                                                                  \n",
      " fc3 (Dense)                    (None, 1024)         2098176     ['dropout2[0][0]']               \n",
      "                                                                                                  \n",
      " output (Dense)                 (None, 1)            1025        ['fc3[0][0]']                    \n",
      "                                                                                                  \n",
      "==================================================================================================\n",
      "Total params: 117,352,706\n",
      "Trainable params: 117,352,705\n",
      "Non-trainable params: 1\n",
      "__________________________________________________________________________________________________\n"
     ]
    },
    {
     "data": {
      "image/png": "[encoded data removed]",
      "text/plain": [
       "<IPython.core.display.Image object>"
      ]
     },
     "execution_count": 11,
     "metadata": {},
     "output_type": "execute_result"
    }
   ],
   "source": [
    "model.compile(optimizer='adam', loss='binary_crossentropy', metrics=['accuracy'])\n",
    "model._name = bert_model_name\n",
    "model.summary()\n",
    "keras.utils.plot_model(model,dpi=65)"
   ]
  },
  {
   "cell_type": "markdown",
   "id": "tdfojXTfynIT",
   "metadata": {
    "id": "tdfojXTfynIT"
   },
   "source": [
    "#### *Training and Results*"
   ]
  },
  {
   "cell_type": "code",
   "execution_count": null,
   "id": "cjmloU_oxyLe",
   "metadata": {
    "colab": {
     "base_uri": "https://localhost:8080/"
    },
    "id": "cjmloU_oxyLe",
    "outputId": "761a4896-23e2-42ac-f234-f312a3e82309"
   },
   "outputs": [
    {
     "name": "stdout",
     "output_type": "stream",
     "text": [
      "Epoch 1/25\n",
      "43/43 [==============================] - 64s 1s/step - loss: 0.3939 - accuracy: 0.9250 - val_loss: 0.1344 - val_accuracy: 0.9708\n",
      "Epoch 2/25\n",
      "43/43 [==============================] - 41s 947ms/step - loss: 0.1665 - accuracy: 0.9647 - val_loss: 0.1786 - val_accuracy: 0.9708\n",
      "Epoch 3/25\n",
      "43/43 [==============================] - 47s 1s/step - loss: 0.1686 - accuracy: 0.9647 - val_loss: 0.1334 - val_accuracy: 0.9708\n",
      "Epoch 4/25\n",
      "43/43 [==============================] - 47s 1s/step - loss: 0.1711 - accuracy: 0.9647 - val_loss: 0.1321 - val_accuracy: 0.9708\n",
      "Epoch 5/25\n",
      "43/43 [==============================] - 40s 924ms/step - loss: 0.1631 - accuracy: 0.9647 - val_loss: 0.1481 - val_accuracy: 0.9708\n",
      "Epoch 6/25\n",
      "43/43 [==============================] - 40s 936ms/step - loss: 0.1583 - accuracy: 0.9647 - val_loss: 0.1322 - val_accuracy: 0.9708\n",
      "Epoch 7/25\n",
      "43/43 [==============================] - 40s 925ms/step - loss: 0.1602 - accuracy: 0.9647 - val_loss: 0.1384 - val_accuracy: 0.9708\n",
      "Epoch 8/25\n",
      "43/43 [==============================] - 46s 1s/step - loss: 0.1561 - accuracy: 0.9647 - val_loss: 0.1319 - val_accuracy: 0.9708\n",
      "Epoch 9/25\n",
      "43/43 [==============================] - 40s 931ms/step - loss: 0.1647 - accuracy: 0.9647 - val_loss: 0.1459 - val_accuracy: 0.9708\n",
      "Epoch 10/25\n",
      "43/43 [==============================] - 40s 923ms/step - loss: 0.1723 - accuracy: 0.9647 - val_loss: 0.1848 - val_accuracy: 0.9708\n",
      "Epoch 11/25\n",
      "43/43 [==============================] - 40s 929ms/step - loss: 0.1572 - accuracy: 0.9647 - val_loss: 0.1463 - val_accuracy: 0.9708\n",
      "Epoch 12/25\n",
      "43/43 [==============================] - 40s 922ms/step - loss: 0.1568 - accuracy: 0.9647 - val_loss: 0.1426 - val_accuracy: 0.9708\n",
      "Epoch 13/25\n",
      "43/43 [==============================] - 40s 929ms/step - loss: 0.1556 - accuracy: 0.9647 - val_loss: 0.1338 - val_accuracy: 0.9708\n"
     ]
    }
   ],
   "source": [
    "#Stop training when a monitored metric (here, accuracy) has stopped improving.\n",
    "#patience: Number of epochs with no improvement after which training will be stopped.\n",
    "early_stopping_cb = tf.keras.callbacks.EarlyStopping(patience=5)\n",
    "\n",
    "# Saving the best Trained model\n",
    "model_file = model.name+'_Model.h5'\n",
    "checkpoint_cb = tf.keras.callbacks.ModelCheckpoint(model_file, save_best_only=True)\n",
    "\n",
    "tf.keras.backend.clear_session\n",
    "history = model.fit(train_text, train_labels,\n",
    "                    epochs=25,\n",
    "                    validation_split=0.15,\n",
    "                    callbacks=[early_stopping_cb, checkpoint_cb]\n",
    "                   )"
   ]
  },
  {
   "cell_type": "code",
   "execution_count": null,
   "id": "uECXlwmax3gU",
   "metadata": {
    "colab": {
     "base_uri": "https://localhost:8080/",
     "height": 513
    },
    "id": "uECXlwmax3gU",
    "outputId": "1299f954-5cb7-41f0-de7c-31be1ea15601"
   },
   "outputs": [
    {
     "data": {
      "image/png": "[encoded data removed]",
      "text/plain": [
       "<Figure size 1080x576 with 2 Axes>"
      ]
     },
     "metadata": {
      "needs_background": "light"
     },
     "output_type": "display_data"
    }
   ],
   "source": [
    "def plot_accuracy_and_loss_of_train_and_validation_dataset(history):\n",
    "    train_acc=history.history['accuracy']\n",
    "    train_loss=history.history['loss']\n",
    "    val_acc=history.history['val_accuracy']\n",
    "    val_loss=history.history['val_loss']\n",
    "    epoch=[i for i in range(len(train_acc))]\n",
    "    fig , ax=plt.subplots(1,2)\n",
    "    fig.set_size_inches(15,8)\n",
    "    ax[0].plot(epoch,train_acc,'co-',label='training accuracy')\n",
    "    ax[0].plot(epoch,val_acc,'mo-',label='validation accuracy')\n",
    "    ax[0].set_title('Training & Validation Accuracy')\n",
    "    ax[0].legend()\n",
    "    ax[0].set_xlabel(\"Epochs\")\n",
    "    ax[0].set_ylabel(\"Accuracy\")\n",
    "    ax[1].plot(epoch,train_loss,'c-o',label='training loss')\n",
    "    ax[1].plot(epoch,val_loss,'m-o',label='validation loss')\n",
    "    ax[1].set_title('Training & Validation loss')\n",
    "    ax[1].legend()\n",
    "    ax[1].set_xlabel(\"Epochs\")\n",
    "    ax[1].set_ylabel(\"Training & Validation Loss\")\n",
    "\n",
    "# incase of early stop\n",
    "plot_accuracy_and_loss_of_train_and_validation_dataset(history)"
   ]
  },
  {
   "cell_type": "markdown",
   "id": "GCf2mjch5wD4",
   "metadata": {
    "id": "GCf2mjch5wD4"
   },
   "source": [
    "#### **Evaluation**"
   ]
  },
  {
   "cell_type": "code",
   "execution_count": null,
   "id": "XbKtMKzC5rrH",
   "metadata": {
    "colab": {
     "base_uri": "https://localhost:8080/"
    },
    "id": "XbKtMKzC5rrH",
    "outputId": "c6929b3f-1ee6-412a-eebd-b2a87b06e3cc"
   },
   "outputs": [
    {
     "name": "stdout",
     "output_type": "stream",
     "text": [
      "63/63 [==============================] - 21s 337ms/step - loss: 0.1506 - accuracy: 0.9655\n",
      "The accuracy of train text is :  0.965499997138977\n"
     ]
    }
   ],
   "source": [
    "#model = keras.models.load_model(model_file) # rollback to best model\n",
    "loss,accuracy = model.evaluate(data['X_data'], data['Y_data'])\n",
    "print(\"The accuracy of train text is : \",accuracy)"
   ]
  },
  {
   "cell_type": "markdown",
   "id": "ISWL-a2c6Na1",
   "metadata": {
    "id": "ISWL-a2c6Na1"
   },
   "source": [
    "#### *Accuracy for each class*"
   ]
  },
  {
   "cell_type": "code",
   "execution_count": null,
   "id": "HvQRSUx_58kQ",
   "metadata": {
    "colab": {
     "base_uri": "https://localhost:8080/"
    },
    "id": "HvQRSUx_58kQ",
    "outputId": "ee57a089-8e82-4575-94e5-b95a5cb83818"
   },
   "outputs": [
    {
     "name": "stdout",
     "output_type": "stream",
     "text": [
      "Predicting Test data using the above Trained model...\n",
      "13/13 [==============================] - 5s 361ms/step\n"
     ]
    }
   ],
   "source": [
    "print(\"Predicting Test data using the above Trained model...\")\n",
    "pred_Ids_of_test = model.predict(test_text)"
   ]
  },
  {
   "cell_type": "code",
   "execution_count": null,
   "id": "gTni7X1G6T6B",
   "metadata": {
    "colab": {
     "base_uri": "https://localhost:8080/"
    },
    "id": "gTni7X1G6T6B",
    "outputId": "d6f19555-1de5-43a7-b73c-a55e9b4b660d"
   },
   "outputs": [
    {
     "name": "stdout",
     "output_type": "stream",
     "text": [
      "              precision    recall  f1-score   support\n",
      "\n",
      "      Normal       0.96      1.00      0.98       386\n",
      "     Anomaly       0.00      0.00      0.00        14\n",
      "\n",
      "    accuracy                           0.96       400\n",
      "   macro avg       0.48      0.50      0.49       400\n",
      "weighted avg       0.93      0.96      0.95       400\n",
      "\n"
     ]
    }
   ],
   "source": [
    "from sklearn.metrics import accuracy_score, confusion_matrix, classification_report\n",
    "predIdxs = np.argmax(pred_Ids_of_test, axis=1) # to get the indices of max value in each row\n",
    "print(classification_report(test_labels, predIdxs,target_names=class_names))"
   ]
  },
  {
   "cell_type": "markdown",
   "id": "HSxsq8Yv8jik",
   "metadata": {
    "id": "HSxsq8Yv8jik"
   },
   "source": [
    "#### **Confusion Matrix**"
   ]
  },
  {
   "cell_type": "code",
   "execution_count": null,
   "id": "O8Ayvzsz8ltg",
   "metadata": {
    "colab": {
     "base_uri": "https://localhost:8080/",
     "height": 338
    },
    "id": "O8Ayvzsz8ltg",
    "outputId": "b8eb79a3-a0ff-46ec-c2b2-532dc77afed9"
   },
   "outputs": [
    {
     "data": {
      "image/png": "[encoded data removed]",
      "text/plain": [
       "<Figure size 360x360 with 1 Axes>"
      ]
     },
     "metadata": {
      "needs_background": "light"
     },
     "output_type": "display_data"
    }
   ],
   "source": [
    "CM = confusion_matrix(test_labels, predIdxs)\n",
    "# Plot confusion matrix\n",
    "plt.figure(figsize = (5,5))\n",
    "plt.imshow(CM,interpolation='nearest',cmap='winter')\n",
    "for (i, j), z in np.ndenumerate(CM):\n",
    "    plt.text(j, i, z, ha='center', va='center')\n",
    "plt.xlabel(\"y Predict\")\n",
    "plt.ylabel(\"y Test\")\n",
    "plt.grid(False)\n",
    "plt.show()"
   ]
  },
  {
   "cell_type": "markdown",
   "id": "VoCH6at3-oHO",
   "metadata": {
    "id": "VoCH6at3-oHO"
   },
   "source": [
    "---"
   ]
  }
 ],
 "metadata": {
  "accelerator": "GPU",
  "colab": {
   "collapsed_sections": [],
   "provenance": []
  },
  "kernelspec": {
   "display_name": "Python 3 (ipykernel)",
   "language": "python",
   "name": "python3"
  },
  "language_info": {
   "codemirror_mode": {
    "name": "ipython",
    "version": 3
   },
   "file_extension": ".py",
   "mimetype": "text/x-python",
   "name": "python",
   "nbconvert_exporter": "python",
   "pygments_lexer": "ipython3",
   "version": "3.9.13"
  }
 },
 "nbformat": 4,
 "nbformat_minor": 5
}
